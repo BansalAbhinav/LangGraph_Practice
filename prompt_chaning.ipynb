{
 "cells": [
  {
   "cell_type": "code",
   "execution_count": 24,
   "id": "b4595482",
   "metadata": {},
   "outputs": [],
   "source": [
    "from langchain_huggingface import ChatHuggingFace , HuggingFaceEndpoint\n",
    "from dotenv import load_dotenv"
   ]
  },
  {
   "cell_type": "code",
   "execution_count": 25,
   "id": "78580888",
   "metadata": {},
   "outputs": [],
   "source": [
    "from langgraph.graph import StateGraph,START,END\n",
    "from typing import TypedDict\n",
    "from langchain.prompts import PromptTemplate"
   ]
  },
  {
   "cell_type": "code",
   "execution_count": 26,
   "id": "1b862052",
   "metadata": {},
   "outputs": [],
   "source": [
    "llm= HuggingFaceEndpoint(\n",
    "    repo_id=\"google/gemma-2-2b-it\",\n",
    "    task=\"text-generation\"\n",
    ")\n",
    "model = ChatHuggingFace(llm=llm)"
   ]
  },
  {
   "cell_type": "code",
   "execution_count": 27,
   "id": "0dede4bc",
   "metadata": {},
   "outputs": [],
   "source": [
    "#create state\n",
    "\n",
    "class promptllm(TypedDict):\n",
    "    topic:str\n",
    "    outline:str\n",
    "    blog:str"
   ]
  },
  {
   "cell_type": "code",
   "execution_count": 28,
   "id": "b8607763",
   "metadata": {},
   "outputs": [],
   "source": [
    "def blog_LLM(state:promptllm)->promptllm:\n",
    "    outline = state['outline']\n",
    "\n",
    "    prompt = PromptTemplate(\n",
    "        template='crete a blog  for the {outline} given also make sure to have a examples in this blog ',\n",
    "        input_variables=['outline']\n",
    "    )\n",
    "    final_prompt = prompt.format(outline=outline)\n",
    "    blog = model.invoke(final_prompt).content\n",
    "\n",
    "    state['blog'] = blog\n",
    "    return state"
   ]
  },
  {
   "cell_type": "code",
   "execution_count": 29,
   "id": "8d42d009",
   "metadata": {},
   "outputs": [],
   "source": [
    "def outline_LLM(state:promptllm)->promptllm:\n",
    "    topic = state['topic']\n",
    "\n",
    "    prompt = PromptTemplate(\n",
    "        template='crete a outline for the {topic} given also list hte points to write a blog on this topic',\n",
    "        input_variables=['topic']\n",
    "    )\n",
    "    final_prompt = prompt.format(topic=topic)\n",
    "    outline = model.invoke(final_prompt).content\n",
    "\n",
    "    state['outline'] = outline\n",
    "    return state"
   ]
  },
  {
   "cell_type": "code",
   "execution_count": 30,
   "id": "ca314d62",
   "metadata": {},
   "outputs": [],
   "source": [
    "#graph creation\n",
    "\n",
    "graph = StateGraph(promptllm)\n",
    "\n",
    "\n",
    "# add nodes\n",
    "\n",
    "graph.add_node(\"outline_llm\", outline_LLM)\n",
    "graph.add_node(\"blog_llm\",blog_LLM)\n",
    "\n",
    "# add edges\n",
    "\n",
    "graph.add_edge(START,'outline_llm')\n",
    "graph.add_edge('outline_llm','blog_llm')\n",
    "graph.add_edge('blog_llm',END)\n",
    "\n",
    "\n",
    "#compile the graph\n",
    "\n",
    "workflow = graph.compile()"
   ]
  },
  {
   "cell_type": "code",
   "execution_count": 31,
   "id": "06a1141a",
   "metadata": {},
   "outputs": [
    {
     "name": "stdout",
     "output_type": "stream",
     "text": [
      "{'topic': 'best practice to following while writing code for backedn in NEXT.Js', 'outline': \"##  Best Practices for Writing Backend Code in Next.js \\n\\nThis outline will cover common best practices for writing efficient, scalable, and maintainable backend code for Next.js applications.\\n\\n**I. Setting the Stage**\\n\\n* **Why Next.js?**  Explain the advantages of using Next.js for backend development, including its server-side rendering capabilities, robust routing system, dependency injection, and improved development workflow. \\n* **Project Setup:** Guide readers through creating a Next.js project, choosing a proper API route generation strategy, and setting up necessary dependencies. Highlight using API routes for fetching data efficiently.\\n\\n**II. Data Handling and Fetching:**\\n\\n* **Data Fetching Options:**  Discuss both local and remote data fetching methods (using `useEffect`, `getStaticProps`, `getStaticPaths`, `getServerSideProps`, etc.).\\n* **Predictable API Data:** Talk about data modeling, proper data fetching strategies, and strategies for handling asynchronous data updates efficiently.\\n* **Single-Source-of-Truth:** Advocate for leveraging `Axios`, a modern JavaScript library for making API requests, and provide tips on managing endpoints and API data structures effectively. \\n\\n**III. State Management & Consistency:**\\n\\n* **Local State Management:** Explain how `useState` and `useEffect` are crucial for handling UI state within your pages. Offer examples of core state management patterns. \\n* **Client-Side vs Server-Side Data:** Discuss the importance of synchronizing data between the client and server to ensure consistency across the application and preview static data with `getServerSideProps`.\\n* **State Handling for Complex Applications:** Dive into advanced state management approaches (e.g., Redux, Zustand, MobX) when needed depending on application scale and complexity.\\n* **Data Consistency during State Updates:** Most importantly, discuss the importance of minimizing UI updates and focusing on fetching data.\\n\\n**IV. Deployment and Scalability**\\n\\n* **Serverless Function Composition:**  Outline how utilizing Serverless functions enables efficient and scalable backend services within a Next.js environment.\\n* **Server-Side Rendering Techniques:** Emphasize using server-side rendering for improved performance, SEO optimization, and better initial load times.\\n* **Scalability: Memory vs. CPU**: Explore the different factors leading to scalability in Next.js, highlighting the importance of scaling memory and CPU resources with the backend infrastructure. \\n\\n\\n**V. Testing and Maintaining Code**\\n\\n* **Testing Strategies**: Discuss the importance of automated tests when working with backends that handle data. \\n* **Code Organization & Documentation:** Emphasize structured code organization (using folders and naming conventions), code linters and style guides, and good documentation to make the code maintainable.\\n* **Modular Design and Components:** Explain how modular designs, reusable components, and the power of libraries can help in both testing and development.\\n\\n**Blogging Points** \\n\\n* **Illustrate with real-world examples:** Example time: \\n    * Build a Next.js Blog & Showcase it - Implement features and API data management.\\n    * Implement a user authentication system and showcase user modal design and state management.\\n* **Gyroscope approach**: Explain a real-world example of how each approach is implemented in a Next.js application.\\n* **Troubleshooting common issues**, \\n    * Troubleshooting Common Next.js Backend Errors.\\n* Focus on the **Why**. Go deep on the reasoning behind every recommendation and example.\\n* **Address common mistakes** - Put the danger of doing things a certain way and highlight how to fix them instead. \\n* **Explain abstract concepts in simple terms** - 'Deploying Backend to the Cloud' can be good. \\n* **Use Visuals**: Animation gifs, in-image tools, code examples, pseudo-mockups of applications.\\n\\n\\n\\nThis comprehensive outline provides a roadmap for best practices in writing efficient, scalable, and maintainable backend code in Next.js. The blog can be grouped in sequential fashion, creating a logical progression for readers to follow. By incorporating real-world examples, troubleshooting tips, and visual elements, your blog will effectively convey practical, easily-understood advice for next.js backend developers. \\n\", 'blog': '## Best Practices for Writing Backend Code in Next.js \\n\\nWelcome to the world of Next.js, where styling dashboards aren’t just for the front-end! In this post, we’ll delve into best practices for building robust and scalable backend services directly within your Next.js application. \\n\\n**Why Next.js for Backend Development?**\\n\\nBefore we dive into the nitty-gritty, let\\'s address why Next.js excels as your chosen framework for backend development. \\n\\n* **Server-Side Rendering (SSR):** Next.js handles the heavy lifting of rendering your data to the browser, improving SEO and initial page load times.\\n* **Robust Routing:**  Next.js offers a flexible, centralized routing system that simplifies project navigation. \\n* **Powerful APIs:** Next.js excels at handling data through API Routes, enabling efficient data fetching and modifying within your backend logic.  \\n* **Improved Development Workflow:**  Next.js streamlines development through features like hot reloading and data Fetching API’s.\\n\\n\\n**Let’s set up the playground**\\n\\nTo get started, choose a project type based on your app’s future needs. We recommend a classic Next.js app type for CRUD operations and then transition to serverless functions for complex backend logic.\\n\\n\\n**Step 1: Setting up your Next.js project**\\nUse Create React App to quickly set up a simple Next.js application:\\n```bash\\nnpx create-next-app my-next-app \\ncd my-next-app\\n```\\n\\nNext, use a tool like ts-node to run TypeScript checks.\\n\\n**Step 2: Choosing your API route**\\nNext.js makes it easy to manage APIs. For data fetching within your Next.js application, the `getStaticProps` function is a functional way to push data during your development workflow.\\n\\n**Data Handling and Fetching**\\n\\nLet\\'s dive into how to write efficient, consistent data handling logic and how to utilize API routes. \\n\\n```javascript\\n// pages/index.js\\nimport { useState, useEffect } from \"react\";\\nimport axios from \"axios\";\\n\\n\\n\\nexport default function Home() {\\n  const [users, setUsers] = useState([]); \\n  \\n  useEffect(() => {\\n    const fetchData = async () => {\\n      try {\\n        const response = await axios.get(\"https://jsonplaceholder.typicode.com/users\");\\n        setUsers(response.data);\\n      } catch (error) {\\n        console.error(\"Error fetching users:\", error);\\n      }\\n    };\\n\\n    fetchData();\\n  }, []);\\n\\n  return (\\n    <div>\\n      <h1>User List</h1>\\n      <ul>\\n        {users.map(user => (\\n          <li key={user.id}>{user.name}</li>\\n        ))}\\n      </ul>\\n    </div>\\n  );\\n}\\n```\\n\\n**Conclusion**\\n\\nImplementing these best practices will take your next.js backend development from good to great. Keep in mind that these best practices are just the beginning. The real trick is to always be learning and adapting to the ongoing evolution of the backend frontier. \\n\\n\\n **Let your code reflect your imagination and create something exceptional!**\\n\\n\\n **Debugging and Troubleshooting**\\n\\n * **Common Errors:** \\n     - `TypeError`: Make sure you\\'re requesting data from a validated data source or response. \\n     - `HTTP ErrorCodes`:\\n     - `client-side errors`: These usually point to incorrect data requests or how you are manipulating server-side data.\\n\\n\\n **References**\\n\\n\\n\\n* [Next.js Docs](https://nextjs.org/)\\n* [Axios](https://axios-http.com/)\\n* [Testing Strategies with Next.js](https://nextjs.org/docs/app/testing)\\n\\n\\n\\n\\nRemember, writing efficient and scalable backend code is a continuous learning process. Stay up-to-date with new features and explore advanced techniques as you develop your Next.js backend solutions. Happy coding!  \\n'}\n"
     ]
    }
   ],
   "source": [
    "# execute the graph\n",
    "\n",
    "intial_state = {'topic':\"best practice to following while writing code for backedn in NEXT.Js\"}\n",
    "\n",
    "final_state = workflow.invoke(intial_state)\n",
    "\n",
    "print(final_state)"
   ]
  },
  {
   "cell_type": "code",
   "execution_count": 32,
   "id": "615cb2a0",
   "metadata": {},
   "outputs": [
    {
     "data": {
      "image/png": "[encoded data removed]",
      "text/plain": [
       "<IPython.core.display.Image object>"
      ]
     },
     "execution_count": 32,
     "metadata": {},
     "output_type": "execute_result"
    }
   ],
   "source": [
    "from IPython.display import Image\n",
    "Image(workflow.get_graph().draw_mermaid_png())"
   ]
  },
  {
   "cell_type": "code",
   "execution_count": null,
   "id": "b888dc7f",
   "metadata": {},
   "outputs": [],
   "source": []
  }
 ],
 "metadata": {
  "kernelspec": {
   "display_name": "myenv",
   "language": "python",
   "name": "python3"
  },
  "language_info": {
   "codemirror_mode": {
    "name": "ipython",
    "version": 3
   },
   "file_extension": ".py",
   "mimetype": "text/x-python",
   "name": "python",
   "nbconvert_exporter": "python",
   "pygments_lexer": "ipython3",
   "version": "3.13.5"
  }
 },
 "nbformat": 4,
 "nbformat_minor": 5
}
