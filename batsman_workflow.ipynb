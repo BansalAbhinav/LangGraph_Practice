{
 "cells": [
  {
   "cell_type": "code",
   "execution_count": 61,
   "id": "e6546541",
   "metadata": {},
   "outputs": [],
   "source": [
    "from langgraph.graph import StateGraph,START,END\n",
    "from dotenv import load_dotenv\n",
    "from typing import TypedDict"
   ]
  },
  {
   "cell_type": "code",
   "execution_count": 62,
   "id": "baedff29",
   "metadata": {},
   "outputs": [],
   "source": [
    "class BatsmanState(TypedDict):\n",
    "    runs:int\n",
    "    balls:int\n",
    "    four:int\n",
    "    sixes:int\n",
    "\n",
    "    sr:float\n",
    "    bpb:float\n",
    "    boundry_percentage:float\n",
    "    summary :str\n",
    "    \n"
   ]
  },
  {
   "cell_type": "code",
   "execution_count": 63,
   "id": "e744bd4f",
   "metadata": {},
   "outputs": [],
   "source": [
    "def calculate_SR(state:BatsmanState)->BatsmanState:\n",
    "    runs = state['runs']\n",
    "    balls = state['balls']\n",
    "    four = state['four']\n",
    "    sixes = state['sixes']\n",
    "    sr =  (runs/balls)*100\n",
    "    # state['sr'] = sr\n",
    "    return {'sr' :sr}"
   ]
  },
  {
   "cell_type": "code",
   "execution_count": 64,
   "id": "4a03c339",
   "metadata": {},
   "outputs": [],
   "source": [
    "def calculate_BPB(state:BatsmanState)->BatsmanState:\n",
    "    runs = state['runs']\n",
    "    balls = state['balls']\n",
    "    four = state['four']\n",
    "    sixes = state['sixes']\n",
    "\n",
    "    bpb = (balls)/(four+sixes)\n",
    "    # state['bpb'] = bpb\n",
    "    return {'bpb' : bpb}"
   ]
  },
  {
   "cell_type": "code",
   "execution_count": 65,
   "id": "a2900f4f",
   "metadata": {},
   "outputs": [],
   "source": [
    "def calculate_boundryPercentage(state:BatsmanState)->BatsmanState:\n",
    "    runs = state['runs']\n",
    "    balls = state['balls']\n",
    "    four = state['four']\n",
    "    sixes = state['sixes']\n",
    "\n",
    "    boundry = (((four)*4  + (sixes)* 6)/runs)*100\n",
    "    # state['boundry_percentage'] = boundry\n",
    "    return {'boundry_percentage':boundry}"
   ]
  },
  {
   "cell_type": "code",
   "execution_count": 66,
   "id": "6d097734",
   "metadata": {},
   "outputs": [],
   "source": [
    "def Summary(state:BatsmanState)->BatsmanState:\n",
    "\n",
    "    summary = f\"\"\"\n",
    "    Strike Rate - {state['sr']} \\n\n",
    "    Balls per boundary - {state['bpb']} \\n\n",
    "    Boundary percent - {state['boundry_percentage']}\n",
    "    \"\"\"\n",
    "    # state['summary'] = summary\n",
    "    return {'summary':summary}"
   ]
  },
  {
   "cell_type": "code",
   "execution_count": 67,
   "id": "a0b800ee",
   "metadata": {},
   "outputs": [
    {
     "data": {
      "text/plain": [
       "<langgraph.graph.state.StateGraph at 0x1d892393ed0>"
      ]
     },
     "execution_count": 67,
     "metadata": {},
     "output_type": "execute_result"
    }
   ],
   "source": [
    "graph = StateGraph(BatsmanState)\n",
    "#add node \n",
    "graph.add_node('calculate_sr',calculate_SR)\n",
    "graph.add_node('calculate_bpb',calculate_BPB)\n",
    "graph.add_node('calculate_boundryPercentage',calculate_boundryPercentage)\n",
    "graph.add_node('summary',Summary)\n"
   ]
  },
  {
   "cell_type": "code",
   "execution_count": 68,
   "id": "994626d4",
   "metadata": {},
   "outputs": [],
   "source": [
    "# edges \n",
    "graph.add_edge(START,\"calculate_sr\")\n",
    "graph.add_edge(START,\"calculate_bpb\")\n",
    "graph.add_edge(START,\"calculate_boundryPercentage\")\n",
    "\n",
    "graph.add_edge(\"calculate_sr\",'summary')\n",
    "graph.add_edge(\"calculate_bpb\",'summary')\n",
    "graph.add_edge(\"calculate_boundryPercentage\",'summary')\n",
    "\n",
    "\n",
    "graph.add_edge(\"summary\",END)\n",
    "\n",
    "\n",
    "workflow = graph.compile()"
   ]
  },
  {
   "cell_type": "code",
   "execution_count": 69,
   "id": "3545c468",
   "metadata": {},
   "outputs": [
    {
     "data": {
      "image/png": "[encoded data removed]",
      "text/plain": [
       "<IPython.core.display.Image object>"
      ]
     },
     "execution_count": 69,
     "metadata": {},
     "output_type": "execute_result"
    }
   ],
   "source": [
    "from IPython.display import Image\n",
    "Image(workflow.get_graph().draw_mermaid_png())"
   ]
  },
  {
   "cell_type": "code",
   "execution_count": 70,
   "id": "c41f1c8c",
   "metadata": {},
   "outputs": [
    {
     "name": "stdout",
     "output_type": "stream",
     "text": [
      "{'runs': 100, 'balls': 50, 'four': 6, 'sixes': 4, 'sr': 200.0, 'bpb': 5.0, 'boundry_percentage': 48.0, 'summary': '\\n    Strike Rate - 200.0 \\n\\n    Balls per boundary - 5.0 \\n\\n    Boundary percent - 48.0\\n    '}\n"
     ]
    }
   ],
   "source": [
    "initial_state = {\"runs\":100,\"balls\":50,\"four\":6,\"sixes\":4 }\n",
    "\n",
    "final_State = workflow.invoke(initial_state)\n",
    "\n",
    "print(final_State)"
   ]
  },
  {
   "cell_type": "code",
   "execution_count": null,
   "id": "695f4250",
   "metadata": {},
   "outputs": [],
   "source": []
  },
  {
   "cell_type": "code",
   "execution_count": null,
   "id": "5bf62166",
   "metadata": {},
   "outputs": [],
   "source": []
  },
  {
   "cell_type": "code",
   "execution_count": null,
   "id": "07151e59",
   "metadata": {},
   "outputs": [],
   "source": []
  }
 ],
 "metadata": {
  "kernelspec": {
   "display_name": "myenv",
   "language": "python",
   "name": "python3"
  },
  "language_info": {
   "codemirror_mode": {
    "name": "ipython",
    "version": 3
   },
   "file_extension": ".py",
   "mimetype": "text/x-python",
   "name": "python",
   "nbconvert_exporter": "python",
   "pygments_lexer": "ipython3",
   "version": "3.13.5"
  }
 },
 "nbformat": 4,
 "nbformat_minor": 5
}
