{
 "cells": [
  {
   "cell_type": "code",
   "execution_count": 1,
   "id": "d4ae6434",
   "metadata": {},
   "outputs": [],
   "source": [
    "from langgraph.graph import StateGraph,START,END\n",
    "from typing import TypedDict,Literal ,Annotated \n",
    "from langchain_core.messages import HumanMessage,BaseMessage\n",
    "from langchain_google_genai import ChatGoogleGenerativeAI\n",
    "from dotenv import load_dotenv\n",
    "import operator\n",
    "from langgraph.checkpoint.memory import MemorySaver"
   ]
  },
  {
   "cell_type": "code",
   "execution_count": 2,
   "id": "4c12e87b",
   "metadata": {},
   "outputs": [],
   "source": [
    "load_dotenv()\n",
    "model= ChatGoogleGenerativeAI(model=\"gemini-2.5-flash\")"
   ]
  },
  {
   "cell_type": "code",
   "execution_count": 3,
   "id": "8e28f201",
   "metadata": {},
   "outputs": [],
   "source": [
    "from langgraph.graph.message import add_messages\n",
    "class ChatState(TypedDict):\n",
    "    messages: Annotated[list[BaseMessage],add_messages]"
   ]
  },
  {
   "cell_type": "code",
   "execution_count": 4,
   "id": "f92ba2f0",
   "metadata": {},
   "outputs": [],
   "source": [
    "def chatnode(state:ChatState):\n",
    "    #take user query from state\n",
    "    messages = state['messages']\n",
    "\n",
    "    # send to llm \n",
    "    response = model.invoke(messages)\n",
    "    # response store to state\n",
    "    return {\"messages\":[response]}"
   ]
  },
  {
   "cell_type": "code",
   "execution_count": 5,
   "metadata": {},
   "outputs": [],
   "source": [
    "checkpointer = MemorySaver()\n",
    "graph = StateGraph(ChatState)\n",
    "\n",
    "\n",
    "#Add Node\n",
    "graph.add_node(\"chatnode\",chatnode)\n",
    "\n",
    "# add edges\n",
    "\n",
    "graph.add_edge(START,\"chatnode\")\n",
    "graph.add_edge(\"chatnode\",END)\n",
    "\n",
    "chatbot=graph.compile(checkpointer=checkpointer)"
   ]
  },
  {
   "cell_type": "code",
   "execution_count": 6,
   "id": "aa41221d",
   "metadata": {},
   "outputs": [],
   "source": [
    "initial_state = {\n",
    "\n",
    "    'messages': [HumanMessage(content='what is the capital on india')]\n",
    "}\n",
    "# result=chatbot.invoke(initial_state)"
   ]
  },
  {
   "cell_type": "code",
   "execution_count": 7,
   "id": "00687863",
   "metadata": {},
   "outputs": [],
   "source": [
    "# result['messages'][0].content\n",
    "# result['messages'][-1].content"
   ]
  },
  {
   "cell_type": "code",
   "execution_count": 9,
   "id": "3ee385e9",
   "metadata": {},
   "outputs": [
    {
     "name": "stdout",
     "output_type": "stream",
     "text": [
      "User: hi my name is abhinav\n"
     ]
    },
    {
     "name": "stderr",
     "output_type": "stream",
     "text": [
      "d:\\Coding\\Self-Coding\\langgraph_practice\\myenv\\Lib\\site-packages\\langchain_google_genai\\chat_models.py:2007: UserWarning: HumanMessage with empty content was removed to prevent API error\n",
      "  warnings.warn(\n"
     ]
    },
    {
     "name": "stdout",
     "output_type": "stream",
     "text": [
      "AI Hi Abhinav! It's nice to meet you.\n",
      "\n",
      "I'm an AI, so I don't have a personal name like a human.\n",
      "\n",
      "How can I help you today?\n",
      "User: what is my name\n"
     ]
    },
    {
     "name": "stderr",
     "output_type": "stream",
     "text": [
      "d:\\Coding\\Self-Coding\\langgraph_practice\\myenv\\Lib\\site-packages\\langchain_google_genai\\chat_models.py:2007: UserWarning: HumanMessage with empty content was removed to prevent API error\n",
      "  warnings.warn(\n"
     ]
    },
    {
     "name": "stdout",
     "output_type": "stream",
     "text": [
      "AI Your name is Abhinav.\n",
      "User: add 100  into 450\n"
     ]
    },
    {
     "name": "stderr",
     "output_type": "stream",
     "text": [
      "d:\\Coding\\Self-Coding\\langgraph_practice\\myenv\\Lib\\site-packages\\langchain_google_genai\\chat_models.py:2007: UserWarning: HumanMessage with empty content was removed to prevent API error\n",
      "  warnings.warn(\n"
     ]
    },
    {
     "name": "stdout",
     "output_type": "stream",
     "text": [
      "AI 100 + 450 = **550**\n",
      "User: now add 50\n"
     ]
    },
    {
     "name": "stderr",
     "output_type": "stream",
     "text": [
      "d:\\Coding\\Self-Coding\\langgraph_practice\\myenv\\Lib\\site-packages\\langchain_google_genai\\chat_models.py:2007: UserWarning: HumanMessage with empty content was removed to prevent API error\n",
      "  warnings.warn(\n"
     ]
    },
    {
     "name": "stdout",
     "output_type": "stream",
     "text": [
      "AI Okay, so we take the previous result (550) and add 50 to it:\n",
      "\n",
      "550 + 50 = **600**\n",
      "User: exit\n"
     ]
    }
   ],
   "source": [
    "thread_id = '1'\n",
    "while True:\n",
    "    user_message = input('Type Here:')\n",
    "    print('User:' ,user_message)\n",
    "    if user_message.strip().lower() in ['exit' ,'quit' , 'bye']:\n",
    "        break\n",
    "    config = {'configurable':{\"thread_id\":thread_id}}\n",
    "    response =chatbot.invoke({'messages':[HumanMessage(content=user_message)]},config=config)\n",
    "    print('AI', response['messages'][-1].content)"
   ]
  },
  {
   "cell_type": "code",
   "execution_count": 10,
   "id": "0396ebed",
   "metadata": {},
   "outputs": [
    {
     "data": {
      "text/plain": [
       "StateSnapshot(values={'messages': [HumanMessage(content='', additional_kwargs={}, response_metadata={}, id='8d65c1a2-f993-495f-af40-94b3e5da07d5'), HumanMessage(content='hi my name is abhinav', additional_kwargs={}, response_metadata={}, id='b1a472ee-7ab7-4dd5-ac0f-23934ca41da4'), AIMessage(content=\"Hi Abhinav! It's nice to meet you.\\n\\nI'm an AI, so I don't have a personal name like a human.\\n\\nHow can I help you today?\", additional_kwargs={}, response_metadata={'prompt_feedback': {'block_reason': 0, 'safety_ratings': []}, 'finish_reason': 'STOP', 'model_name': 'gemini-2.5-flash', 'safety_ratings': []}, id='run--1cd5e352-4702-45b6-acaa-061cdf7dcf8d-0', usage_metadata={'input_tokens': 8, 'output_tokens': 776, 'total_tokens': 784, 'input_token_details': {'cache_read': 0}, 'output_token_details': {'reasoning': 735}}), HumanMessage(content='what is my name', additional_kwargs={}, response_metadata={}, id='de00e9e6-e978-48d7-9d25-b001bb0f4267'), AIMessage(content='Your name is Abhinav.', additional_kwargs={}, response_metadata={'prompt_feedback': {'block_reason': 0, 'safety_ratings': []}, 'finish_reason': 'STOP', 'model_name': 'gemini-2.5-flash', 'safety_ratings': []}, id='run--6116a2a7-a490-46af-8fb1-846b501c5afd-0', usage_metadata={'input_tokens': 55, 'output_tokens': 37, 'total_tokens': 92, 'input_token_details': {'cache_read': 0}, 'output_token_details': {'reasoning': 30}}), HumanMessage(content='add 100  into 450', additional_kwargs={}, response_metadata={}, id='eac461f9-1fa2-4066-8208-0b2477fa8236'), AIMessage(content='100 + 450 = **550**', additional_kwargs={}, response_metadata={'prompt_feedback': {'block_reason': 0, 'safety_ratings': []}, 'finish_reason': 'STOP', 'model_name': 'gemini-2.5-flash', 'safety_ratings': []}, id='run--9fab3291-3d95-4c02-9a59-49aaab353c79-0', usage_metadata={'input_tokens': 75, 'output_tokens': 38, 'total_tokens': 113, 'input_token_details': {'cache_read': 0}, 'output_token_details': {'reasoning': 24}}), HumanMessage(content='now add 50', additional_kwargs={}, response_metadata={}, id='ea20d466-3713-44c2-9d35-370eda8f7618'), AIMessage(content='Okay, so we take the previous result (550) and add 50 to it:\\n\\n550 + 50 = **600**', additional_kwargs={}, response_metadata={'prompt_feedback': {'block_reason': 0, 'safety_ratings': []}, 'finish_reason': 'STOP', 'model_name': 'gemini-2.5-flash', 'safety_ratings': []}, id='run--cc1df319-ec54-44e0-80bb-b3668c7b9222-0', usage_metadata={'input_tokens': 96, 'output_tokens': 60, 'total_tokens': 156, 'input_token_details': {'cache_read': 0}, 'output_token_details': {'reasoning': 25}})]}, next=(), config={'configurable': {'thread_id': '1', 'checkpoint_ns': '', 'checkpoint_id': '1f093d9e-d6fe-6dba-800c-a7c49d6d33b4'}}, metadata={'source': 'loop', 'step': 12, 'parents': {}}, created_at='2025-09-17T15:21:04.920692+00:00', parent_config={'configurable': {'thread_id': '1', 'checkpoint_ns': '', 'checkpoint_id': '1f093d9e-b220-6f64-800b-a9e3ca3362f4'}}, tasks=(), interrupts=())"
      ]
     },
     "execution_count": 10,
     "metadata": {},
     "output_type": "execute_result"
    }
   ],
   "source": [
    "chatbot.get_state(config=config)"
   ]
  },
  {
   "cell_type": "code",
   "execution_count": null,
   "id": "41e34650",
   "metadata": {},
   "outputs": [],
   "source": []
  },
  {
   "cell_type": "code",
   "execution_count": null,
   "id": "5f3cfc61",
   "metadata": {},
   "outputs": [],
   "source": []
  },
  {
   "cell_type": "code",
   "execution_count": null,
   "id": "ce08446c",
   "metadata": {},
   "outputs": [],
   "source": []
  }
 ],
 "metadata": {
  "kernelspec": {
   "display_name": "myenv",
   "language": "python",
   "name": "python3"
  },
  "language_info": {
   "codemirror_mode": {
    "name": "ipython",
    "version": 3
   },
   "file_extension": ".py",
   "mimetype": "text/x-python",
   "name": "python",
   "nbconvert_exporter": "python",
   "pygments_lexer": "ipython3",
   "version": "3.13.5"
  }
 },
 "nbformat": 4,
 "nbformat_minor": 5
}
