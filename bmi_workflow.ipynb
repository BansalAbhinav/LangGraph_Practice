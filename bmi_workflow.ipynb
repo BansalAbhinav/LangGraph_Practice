{
 "cells": [
  {
   "cell_type": "code",
   "execution_count": 29,
   "id": "94d949b5",
   "metadata": {},
   "outputs": [],
   "source": [
    "from langgraph.graph import StateGraph,START,END\n",
    "from typing import TypedDict"
   ]
  },
  {
   "cell_type": "code",
   "execution_count": 35,
   "id": "dc274b87",
   "metadata": {},
   "outputs": [],
   "source": [
    "#Define State\n",
    "\n",
    "class BMIState(TypedDict):\n",
    "    weight_kg: float\n",
    "    height_mt: float\n",
    "    bmi:float\n",
    "    category:str"
   ]
  },
  {
   "cell_type": "code",
   "execution_count": 36,
   "id": "dcd4aece",
   "metadata": {},
   "outputs": [],
   "source": [
    "def calculaate_BMI(state:BMIState) -> BMIState:\n",
    "    weight = state['weight_kg']\n",
    "    height = state['height_mt']\n",
    "    bmi = weight/(height**2)\n",
    "    state['bmi'] = round(bmi,2)\n",
    "    return state\n",
    "\n",
    "\n",
    "\n",
    "def label_BMI(state:BMIState)->BMIState:\n",
    "    bmi = state['bmi']\n",
    "    if (bmi< 18.7):\n",
    "        state['category']= \"under-Weight\"\n",
    "    elif (bmi<25):\n",
    "         state['category']=\"normal\"\n",
    "    elif(bmi<30):\n",
    "         state['category']=\"over-weight\"\n",
    "    else:\n",
    "         state['category']=\"obese\"\n",
    "             \n",
    "    return state"
   ]
  },
  {
   "cell_type": "code",
   "execution_count": 39,
   "id": "2a26070b",
   "metadata": {},
   "outputs": [],
   "source": [
    "#Define Your Graph\n",
    "\n",
    "graph = StateGraph(BMIState)\n",
    "\n",
    "# Add Notes to your Graph\n",
    "\n",
    "\n",
    "graph.add_node(\"calculaate_BMI\",calculaate_BMI)\n",
    "graph.add_node(\"label_BMI\",label_BMI)\n",
    "\n",
    "# Add Edges to your graph\n",
    "graph.add_edge(START,'calculaate_BMI')\n",
    "graph.add_edge('calculaate_BMI','label_BMI')\n",
    "graph.add_edge('label_BMI',END)\n",
    "\n",
    "# Connect the Graph\n",
    "workflow = graph.compile()\n"
   ]
  },
  {
   "cell_type": "code",
   "execution_count": 44,
   "id": "27f0d1d4",
   "metadata": {},
   "outputs": [
    {
     "name": "stdout",
     "output_type": "stream",
     "text": [
      "{'weight_kg': 85, 'height_mt': 1.73, 'bmi': 28.4, 'category': 'over-weight'}\n"
     ]
    }
   ],
   "source": [
    "# Execute the Graph\n",
    "initial_state = {'weight_kg':85,'height_mt':1.73}\n",
    "Final_state= workflow.invoke(initial_state)\n",
    "print(Final_state)"
   ]
  },
  {
   "cell_type": "code",
   "execution_count": 42,
   "id": "3bfe9921",
   "metadata": {},
   "outputs": [
    {
     "data": {
      "image/png": "[encoded data removed]",
      "text/plain": [
       "<IPython.core.display.Image object>"
      ]
     },
     "execution_count": 42,
     "metadata": {},
     "output_type": "execute_result"
    }
   ],
   "source": [
    "from IPython.display import Image\n",
    "Image(workflow.get_graph().draw_mermaid_png())"
   ]
  },
  {
   "cell_type": "code",
   "execution_count": null,
   "id": "f616a446",
   "metadata": {},
   "outputs": [],
   "source": []
  },
  {
   "cell_type": "code",
   "execution_count": null,
   "id": "9e824dd3",
   "metadata": {},
   "outputs": [],
   "source": []
  },
  {
   "cell_type": "code",
   "execution_count": null,
   "id": "75dc7770",
   "metadata": {},
   "outputs": [],
   "source": []
  },
  {
   "cell_type": "code",
   "execution_count": null,
   "id": "ce580d4e",
   "metadata": {},
   "outputs": [],
   "source": []
  }
 ],
 "metadata": {
  "kernelspec": {
   "display_name": "myenv",
   "language": "python",
   "name": "python3"
  },
  "language_info": {
   "codemirror_mode": {
    "name": "ipython",
    "version": 3
   },
   "file_extension": ".py",
   "mimetype": "text/x-python",
   "name": "python",
   "nbconvert_exporter": "python",
   "pygments_lexer": "ipython3",
   "version": "3.13.5"
  }
 },
 "nbformat": 4,
 "nbformat_minor": 5
}
