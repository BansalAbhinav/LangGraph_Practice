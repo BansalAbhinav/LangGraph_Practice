{
 "cells": [
  {
   "cell_type": "code",
   "execution_count": 163,
   "id": "2260975a",
   "metadata": {},
   "outputs": [],
   "source": [
    "from langchain_huggingface import ChatHuggingFace , HuggingFaceEndpoint\n",
    "from dotenv import load_dotenv"
   ]
  },
  {
   "cell_type": "code",
   "execution_count": 164,
   "id": "4fa7a18c",
   "metadata": {},
   "outputs": [],
   "source": [
    "from langgraph.graph import StateGraph,START,END\n",
    "from typing import TypedDict,Annotated\n",
    "from langchain.prompts import PromptTemplate\n",
    "from pydantic import BaseModel, Field\n",
    "import operator"
   ]
  },
  {
   "cell_type": "code",
   "execution_count": 166,
   "id": "223cb612",
   "metadata": {},
   "outputs": [],
   "source": [
    "# llm= HuggingFaceEndpoint(\n",
    "#     repo_id=\"google/gemma-2-2b-it\",\n",
    "#     task=\"text-generation\"\n",
    "# )\n",
    "# model = ChatHuggingFace(llm=llm)\n",
    "from langchain_google_genai import ChatGoogleGenerativeAI\n",
    "load_dotenv()\n",
    "model= ChatGoogleGenerativeAI(model=\"gemini-1.5-flash\")"
   ]
  },
  {
   "cell_type": "code",
   "execution_count": 167,
   "id": "13578256",
   "metadata": {},
   "outputs": [],
   "source": [
    "# structured output\n",
    "\n",
    "class EvalutionSchema(BaseModel):\n",
    "    feedback:str = Field(description=\"Detailed Feedback for the Essay\"),\n",
    "    score: int = Field(description=\"Score out of 10\", ge=0 , le=10)"
   ]
  },
  {
   "cell_type": "code",
   "execution_count": 168,
   "id": "50f8ce80",
   "metadata": {},
   "outputs": [
    {
     "name": "stderr",
     "output_type": "stream",
     "text": [
      "d:\\Coding\\Self-Coding\\langgraph_practice\\myenv\\Lib\\site-packages\\pydantic\\json_schema.py:2324: PydanticJsonSchemaWarning: Default value (FieldInfo(annotation=NoneType, required=True, description='Detailed Feedback for the Essay'),) is not JSON serializable; excluding default from JSON schema [non-serializable-default]\n",
      "  warnings.warn(message, PydanticJsonSchemaWarning)\n"
     ]
    }
   ],
   "source": [
    "structured_model = model.with_structured_output(EvalutionSchema)"
   ]
  },
  {
   "cell_type": "code",
   "execution_count": 169,
   "id": "3c19318e",
   "metadata": {},
   "outputs": [],
   "source": [
    "essay = \"\"\"\n",
    "In today’s digital age, artificial intelligence tools like ChatGPT play a significant role in making our daily lives more efficient and productive. ChatGPT acts as a virtual assistant that helps people with learning, problem-solving, and creativity. Students use it to clarify concepts, draft essays, and practice coding. Professionals rely on it to write emails, summarize reports, and even generate fresh ideas for projects.\n",
    "\n",
    "Beyond work and studies, ChatGPT also supports personal growth. It can recommend books, fitness plans, or cooking recipes, and even provide guidance on communication skills. For those who face language barriers, ChatGPT helps in translation and improving grammar. It also offers companionship by engaging in meaningful conversations, reducing feelings of isolation.\n",
    "\n",
    "Overall, ChatGPT has become a versatile tool that saves time, improves productivity, and enhances creativity. As it continues to evolve, its role in daily life will only expand, shaping how we learn, work, and connect with the world.\n",
    "\n",
    "\n",
    "\"\"\""
   ]
  },
  {
   "cell_type": "code",
   "execution_count": 174,
   "id": "a47a432d",
   "metadata": {},
   "outputs": [
    {
     "name": "stdout",
     "output_type": "stream",
     "text": [
      "feedback='The essay is well-written and easy to understand. However, it could benefit from a stronger conclusion.' score=8\n"
     ]
    }
   ],
   "source": [
    "prompt = f\"You are an evaluator.Return a JSON output following this format:Now evaluate quality Of the following essay and provide a feedback and assign a score out of 10 \\n\"\n",
    "result =structured_model.invoke(prompt)\n",
    "print(result)"
   ]
  },
  {
   "cell_type": "code",
   "execution_count": 181,
   "id": "856f5447",
   "metadata": {},
   "outputs": [
    {
     "data": {
      "text/plain": [
       "8"
      ]
     },
     "execution_count": 181,
     "metadata": {},
     "output_type": "execute_result"
    }
   ],
   "source": [
    "result.score"
   ]
  },
  {
   "cell_type": "markdown",
   "id": "fbeaae38",
   "metadata": {},
   "source": [
    "# Start\n"
   ]
  },
  {
   "cell_type": "code",
   "execution_count": 202,
   "id": "c88a741a",
   "metadata": {},
   "outputs": [],
   "source": [
    "class UPSCState(TypedDict):\n",
    "    essay:str\n",
    "    language_feedback:str\n",
    "    analysis_feedback:str\n",
    "    thought_evaluate:str\n",
    "    overall_feedback:str\n",
    "    \n",
    "    individual_scores: Annotated[list[int],operator.add]\n",
    "    avg_score:float\n",
    "    "
   ]
  },
  {
   "cell_type": "code",
   "execution_count": 203,
   "id": "f15f9173",
   "metadata": {},
   "outputs": [],
   "source": [
    "def language_evaluate(state: UPSCState):\n",
    "\n",
    "    prompt = f'Evaluate the language quality of the following essay and provide a feedback and assign a score out of 10 \\n {state[\"essay\"]}'\n",
    "    output = structured_model.invoke(prompt)\n",
    "\n",
    "    return {'language_feedback': output.feedback, 'individual_scores': [output.score]}"
   ]
  },
  {
   "cell_type": "code",
   "execution_count": 204,
   "id": "9aed68ce",
   "metadata": {},
   "outputs": [],
   "source": [
    "def analysis_evaluate(state: UPSCState):\n",
    "\n",
    "    prompt = f'Evaluate the depth of analysis of the following essay and provide a feedback and assign a score out of 10 \\n {state[\"essay\"]}'\n",
    "    output = structured_model.invoke(prompt)\n",
    "\n",
    "    return {'analysis_feedback': output.feedback, 'individual_scores': [output.score]}"
   ]
  },
  {
   "cell_type": "code",
   "execution_count": 205,
   "id": "ac9d584c",
   "metadata": {},
   "outputs": [],
   "source": [
    "def thought_evaluate(state: UPSCState):\n",
    "\n",
    "    prompt = f'Evaluate the clarity of thought of the following essay and provide a feedback and assign a score out of 10 \\n {state[\"essay\"]}'\n",
    "    output = structured_model.invoke(prompt)\n",
    "\n",
    "    return {'thought_evaluate': output.feedback, 'individual_scores': [output.score]}"
   ]
  },
  {
   "cell_type": "code",
   "execution_count": 206,
   "id": "c480d96a",
   "metadata": {},
   "outputs": [],
   "source": [
    "def overall_evaluate(state: UPSCState):\n",
    "\n",
    "    # summary feedback\n",
    "    prompt = f'Based on the following feedbacks create a summarized feedback \\n language feedback - {state[\"language_feedback\"]} \\n depth of analysis feedback - {state[\"analysis_feedback\"]} \\n clarity of thought feedback - {state[\"thought_evaluate\"]}'\n",
    "    overall_feedback = model.invoke(prompt).content\n",
    "\n",
    "    # avg calculate\n",
    "    avg_score = sum(state['individual_scores'])/len(state['individual_scores'])\n",
    "\n",
    "    return {'overall_feedback': overall_feedback, 'avg_score': avg_score}"
   ]
  },
  {
   "cell_type": "code",
   "execution_count": 207,
   "id": "ff38986e",
   "metadata": {},
   "outputs": [
    {
     "data": {
      "text/plain": [
       "<langgraph.graph.state.StateGraph at 0x2391bcb7ac0>"
      ]
     },
     "execution_count": 207,
     "metadata": {},
     "output_type": "execute_result"
    }
   ],
   "source": [
    "# create graph\n",
    "graph = StateGraph(UPSCState)\n",
    "\n",
    "#add node\n",
    "\n",
    "graph.add_node(\"language_evaluate\",language_evaluate)\n",
    "graph.add_node(\"analysis_evaluate\",analysis_evaluate)\n",
    "graph.add_node(\"thought_evaluate\",thought_evaluate)\n",
    "graph.add_node(\"overall_evaluate\",overall_evaluate)\n"
   ]
  },
  {
   "cell_type": "code",
   "execution_count": 208,
   "id": "33939251",
   "metadata": {},
   "outputs": [],
   "source": [
    "# add edges\n",
    "\n",
    "graph.add_edge(START,\"language_evaluate\")\n",
    "graph.add_edge(START,\"analysis_evaluate\")\n",
    "graph.add_edge(START,\"thought_evaluate\")\n",
    "\n",
    "\n",
    "graph.add_edge(\"language_evaluate\",\"overall_evaluate\")\n",
    "graph.add_edge(\"analysis_evaluate\",\"overall_evaluate\")\n",
    "graph.add_edge(\"thought_evaluate\",\"overall_evaluate\")\n",
    "\n",
    "graph.add_edge(\"overall_evaluate\",END)\n",
    "\n",
    "workflow =graph.compile()\n"
   ]
  },
  {
   "cell_type": "code",
   "execution_count": 215,
   "id": "bbb812de",
   "metadata": {},
   "outputs": [],
   "source": [
    "essay = \"\"\"\n",
    "Technollogy have change the world in manny way. Student now can study from interent and learn without go to libary. But some time it make people lazy becaus they rely only on device not there own brain. Society must find balnce between using technollogy and keeping traditonal learnings.\n",
    "\n",
    "\n",
    "\"\"\""
   ]
  },
  {
   "cell_type": "markdown",
   "id": "0da57dd6",
   "metadata": {},
   "source": []
  },
  {
   "cell_type": "code",
   "execution_count": 216,
   "id": "550c373e",
   "metadata": {},
   "outputs": [
    {
     "name": "stdout",
     "output_type": "stream",
     "text": [
      "{'essay': '\\nTechnollogy have change the world in manny way. Student now can study from interent and learn without go to libary. But some time it make people lazy becaus they rely only on device not there own brain. Society must find balnce between using technollogy and keeping traditonal learnings.\\n\\n\\n', 'language_feedback': \"The essay has some good points about technology's impact on learning, but it needs significant improvement in grammar, spelling, and sentence structure.  There are several errors that make it difficult to read and understand. The ideas are present but need clearer expression.  Focus on proofreading and improving sentence construction.\", 'analysis_feedback': \"The essay presents a superficial analysis of technology's impact on learning.  It identifies a few basic points (internet access for studying, potential for laziness) but lacks depth and supporting evidence. The writing also contains grammatical errors and simplistic sentence structures.  A more in-depth analysis would explore the nuances of technology's influence, considering different types of technology, varying learning styles, and the role of educators.  Specific examples and a more structured argument would significantly improve the essay.\", 'thought_evaluate': \"The essay has some good points about technology's impact on learning, but it's poorly written and lacks organization. There are numerous grammatical errors and typos.  The ideas are not fully developed, and the argument is not clearly presented.  The essay needs significant improvement in clarity, grammar, and structure.\", 'overall_feedback': \"The essay's central idea regarding technology's impact on learning is present but underdeveloped and poorly communicated.  Significant improvements are needed in grammar, spelling, sentence structure, and organization. The analysis is superficial, lacking depth, supporting evidence, and specific examples.  A more structured argument exploring the nuances of technology's influence on various learning styles and the role of educators is required.  Thorough proofreading and rewriting are essential.\", 'individual_scores': [4, 6, 5], 'avg_score': 5.0}\n"
     ]
    }
   ],
   "source": [
    "#execute the graph \n",
    "initial_state = {'essay':essay}\n",
    "\n",
    "final_state = workflow.invoke(initial_state)\n",
    "\n",
    "print(final_state)"
   ]
  },
  {
   "cell_type": "code",
   "execution_count": 217,
   "id": "cf82f923",
   "metadata": {},
   "outputs": [
    {
     "data": {
      "text/plain": [
       "\"The essay's central idea regarding technology's impact on learning is present but underdeveloped and poorly communicated.  Significant improvements are needed in grammar, spelling, sentence structure, and organization. The analysis is superficial, lacking depth, supporting evidence, and specific examples.  A more structured argument exploring the nuances of technology's influence on various learning styles and the role of educators is required.  Thorough proofreading and rewriting are essential.\""
      ]
     },
     "execution_count": 217,
     "metadata": {},
     "output_type": "execute_result"
    }
   ],
   "source": [
    "final_state['overall_feedback']"
   ]
  },
  {
   "cell_type": "code",
   "execution_count": null,
   "id": "4087d964",
   "metadata": {},
   "outputs": [],
   "source": []
  }
 ],
 "metadata": {
  "kernelspec": {
   "display_name": "myenv",
   "language": "python",
   "name": "python3"
  },
  "language_info": {
   "codemirror_mode": {
    "name": "ipython",
    "version": 3
   },
   "file_extension": ".py",
   "mimetype": "text/x-python",
   "name": "python",
   "nbconvert_exporter": "python",
   "pygments_lexer": "ipython3",
   "version": "3.13.5"
  }
 },
 "nbformat": 4,
 "nbformat_minor": 5
}
