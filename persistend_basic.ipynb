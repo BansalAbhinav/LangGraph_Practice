{
 "cells": [
  {
   "cell_type": "code",
   "execution_count": 3,
   "id": "d0a75e28",
   "metadata": {},
   "outputs": [],
   "source": [
    "from langgraph.graph import StateGraph,START,END\n",
    "from typing import TypedDict,Literal ,Annotated \n",
    "from langchain_google_genai import ChatGoogleGenerativeAI\n",
    "from dotenv import load_dotenv\n",
    "from langgraph.checkpoint.memory import InMemorySaver"
   ]
  },
  {
   "cell_type": "code",
   "execution_count": 4,
   "metadata": {},
   "outputs": [],
   "source": [
    "load_dotenv()\n",
    "model= ChatGoogleGenerativeAI(model=\"gemini-1.5-flash\")"
   ]
  },
  {
   "cell_type": "code",
   "execution_count": 5,
   "id": "4e720129",
   "metadata": {},
   "outputs": [],
   "source": [
    "class jokeState(TypedDict):\n",
    "    topic:str\n",
    "    joke:str\n",
    "    explanation:str\n"
   ]
  },
  {
   "cell_type": "code",
   "execution_count": 6,
   "id": "513edab1",
   "metadata": {},
   "outputs": [],
   "source": [
    "def generate_joke(state:jokeState):\n",
    "    prompt = f'generate a joke on the topic {state['topic']}'\n",
    "    response = model.invoke(prompt).content\n",
    "    return{'joke':response}\n",
    "\n",
    "\n",
    "def generate_explanation(state:jokeState):\n",
    "    prompt = f'generate a explanation of the topic {state['joke']}'\n",
    "    response = model.invoke(prompt).content\n",
    "    return{'explanation':response}"
   ]
  },
  {
   "cell_type": "code",
   "execution_count": 7,
   "metadata": {},
   "outputs": [],
   "source": [
    "graph = StateGraph(jokeState)\n",
    "\n",
    "#add node\n",
    "\n",
    "graph.add_node('generate_joke',generate_joke)\n",
    "graph.add_node('generate_explanation',generate_explanation)\n",
    "\n",
    "#add edge\n",
    "\n",
    "graph.add_edge(START,'generate_joke')\n",
    "graph.add_edge('generate_joke','generate_explanation')\n",
    "graph.add_edge('generate_explanation',END)\n",
    "\n",
    "checkpointer = InMemorySaver()\n",
    "workflow = graph.compile(checkpointer=checkpointer)"
   ]
  },
  {
   "cell_type": "code",
   "execution_count": 19,
   "metadata": {},
   "outputs": [
    {
     "data": {
      "text/plain": [
       "{'topic': 'naruto',\n",
       " 'joke': 'Why did Naruto fail his driving test?\\n\\nBecause he kept using shadow clones to take the test for him, and they all failed!',\n",
       " 'explanation': \"Naruto's driving test failure wasn't due to a lack of skill (or maybe it was, depending on the clone's abilities!), but rather a spectacular misuse of his signature jutsu: the Shadow Clone Jutsu.  Instead of focusing on mastering the rules of the road, parallel parking, and three-point turns, Naruto attempted a shortcut.  He created numerous shadow clones, each hoping to take the driving test in his stead.  However, the inherent limitations of the shadow clone technique, coupled with Naruto's clones likely possessing his characteristic impulsive and reckless driving style, resulted in a cascade of failures. Each clone, individually, flunked the test – be it for running red lights, exceeding the speed limit drastically, or perhaps even accidentally summoning a giant toad in the middle of the driving range.  The examiner, understandably overwhelmed by the chaotic scene of multiple Narutos all simultaneously failing, ultimately disqualified the original Naruto for employing such an unorthodox (and illegal) method.  In short, Naruto's ambition to avoid the tediousness of learning to drive backfired spectacularly, leaving him still without a driver's license.\"}"
      ]
     },
     "execution_count": 19,
     "metadata": {},
     "output_type": "execute_result"
    }
   ],
   "source": [
    "config1 = {\"configurable\":{'thread_id':'1'}}\n",
    "initial_state={\n",
    "    'topic':'naruto'\n",
    "}\n",
    "workflow.invoke(initial_state , config=config1)"
   ]
  },
  {
   "cell_type": "code",
   "execution_count": 13,
   "id": "7fe2122f",
   "metadata": {},
   "outputs": [
    {
     "data": {
      "text/plain": [
       "StateSnapshot(values={'topic': 'naruto', 'joke': 'Why did Naruto fail his driving test?\\n\\nBecause he kept using shadow clones to take the test for him, and they all failed!', 'explanation': \"Naruto's driving test failure wasn't due to a lack of skill, per se, but rather a spectacular misuse of his ninja abilities.  Instead of focusing on the practical aspects of operating a vehicle – like parallel parking or obeying traffic signals – Naruto employed his signature Shadow Clone Jutsu.  He created numerous clones, each attempting the test simultaneously.  However, the sheer chaos this caused led to a series of spectacular, albeit hilarious, failures.  Clones crashed into obstacles, ran red lights with reckless abandon, and generally exhibited a complete disregard for road safety.  The examiner, understandably overwhelmed by the sheer number of failing Naruto clones, ultimately declared the entire endeavor a catastrophic failure.  In short, Naruto's ambition to cheat the system backfired spectacularly, proving that even exceptional ninja skills aren't a substitute for learning the rules of the road.\"}, next=(), config={'configurable': {'thread_id': '1', 'checkpoint_ns': '', 'checkpoint_id': '1f093f6d-bcd5-6ac9-8006-8132827e29a0'}}, metadata={'source': 'loop', 'step': 6, 'parents': {}}, created_at='2025-09-17T18:48:10.739124+00:00', parent_config={'configurable': {'thread_id': '1', 'checkpoint_ns': '', 'checkpoint_id': '1f093f6d-a374-6ebe-8005-f1458f3b674c'}}, tasks=(), interrupts=())"
      ]
     },
     "execution_count": 13,
     "metadata": {},
     "output_type": "execute_result"
    }
   ],
   "source": [
    "workflow.get_state(config1)"
   ]
  },
  {
   "cell_type": "code",
   "execution_count": 21,
   "metadata": {},
   "outputs": [
    {
     "data": {
      "text/plain": [
       "[StateSnapshot(values={'topic': 'naruto', 'joke': 'Why did Naruto fail his driving test?\\n\\nBecause he kept using shadow clones to take the test for him, and they all failed!', 'explanation': \"Naruto's driving test failure wasn't due to a lack of skill (or maybe it was, depending on the clone's abilities!), but rather a spectacular misuse of his signature jutsu: the Shadow Clone Jutsu.  Instead of focusing on mastering the rules of the road, parallel parking, and three-point turns, Naruto attempted a shortcut.  He created numerous shadow clones, each hoping to take the driving test in his stead.  However, the inherent limitations of the shadow clone technique, coupled with Naruto's clones likely possessing his characteristic impulsive and reckless driving style, resulted in a cascade of failures. Each clone, individually, flunked the test – be it for running red lights, exceeding the speed limit drastically, or perhaps even accidentally summoning a giant toad in the middle of the driving range.  The examiner, understandably overwhelmed by the chaotic scene of multiple Narutos all simultaneously failing, ultimately disqualified the original Naruto for employing such an unorthodox (and illegal) method.  In short, Naruto's ambition to avoid the tediousness of learning to drive backfired spectacularly, leaving him still without a driver's license.\"}, next=(), config={'configurable': {'thread_id': '1', 'checkpoint_ns': '', 'checkpoint_id': '1f093f72-1c40-6e4b-800a-93f08ffeda5b'}}, metadata={'source': 'loop', 'step': 10, 'parents': {}}, created_at='2025-09-17T18:50:08.118719+00:00', parent_config={'configurable': {'thread_id': '1', 'checkpoint_ns': '', 'checkpoint_id': '1f093f72-0220-6107-8009-20f6903e7e96'}}, tasks=(), interrupts=()),\n",
       " StateSnapshot(values={'topic': 'naruto', 'joke': 'Why did Naruto fail his driving test?\\n\\nBecause he kept using shadow clones to take the test for him, and they all failed!', 'explanation': \"Naruto's driving test failure wasn't due to a lack of skill, per se, but rather a spectacular misuse of his ninja abilities.  Instead of focusing on the practical aspects of operating a vehicle – like parallel parking or obeying traffic signals – Naruto employed his signature Shadow Clone Jutsu.  He created numerous clones, each attempting the test simultaneously.  However, the sheer chaos this caused led to a series of spectacular, albeit hilarious, failures.  Clones crashed into obstacles, ran red lights with reckless abandon, and generally exhibited a complete disregard for road safety.  The examiner, understandably overwhelmed by the sheer number of failing Naruto clones, ultimately declared the entire endeavor a catastrophic failure.  In short, Naruto's ambition to cheat the system backfired spectacularly, proving that even exceptional ninja skills aren't a substitute for learning the rules of the road.\"}, next=('generate_explanation',), config={'configurable': {'thread_id': '1', 'checkpoint_ns': '', 'checkpoint_id': '1f093f72-0220-6107-8009-20f6903e7e96'}}, metadata={'source': 'loop', 'step': 9, 'parents': {}}, created_at='2025-09-17T18:50:05.378974+00:00', parent_config={'configurable': {'thread_id': '1', 'checkpoint_ns': '', 'checkpoint_id': '1f093f71-faf3-604d-8008-f2b481b0c76d'}}, tasks=(PregelTask(id='6f17ac0f-4635-41d7-4e51-64fc19df404d', name='generate_explanation', path=('__pregel_pull', 'generate_explanation'), error=None, interrupts=(), state=None, result={'explanation': \"Naruto's driving test failure wasn't due to a lack of skill (or maybe it was, depending on the clone's abilities!), but rather a spectacular misuse of his signature jutsu: the Shadow Clone Jutsu.  Instead of focusing on mastering the rules of the road, parallel parking, and three-point turns, Naruto attempted a shortcut.  He created numerous shadow clones, each hoping to take the driving test in his stead.  However, the inherent limitations of the shadow clone technique, coupled with Naruto's clones likely possessing his characteristic impulsive and reckless driving style, resulted in a cascade of failures. Each clone, individually, flunked the test – be it for running red lights, exceeding the speed limit drastically, or perhaps even accidentally summoning a giant toad in the middle of the driving range.  The examiner, understandably overwhelmed by the chaotic scene of multiple Narutos all simultaneously failing, ultimately disqualified the original Naruto for employing such an unorthodox (and illegal) method.  In short, Naruto's ambition to avoid the tediousness of learning to drive backfired spectacularly, leaving him still without a driver's license.\"}),), interrupts=()),\n",
       " StateSnapshot(values={'topic': 'naruto', 'joke': 'Why did Naruto fail his driving test?\\n\\nBecause he kept using shadow clones to take the test for him, and they all failed!', 'explanation': \"Naruto's driving test failure wasn't due to a lack of skill, per se, but rather a spectacular misuse of his ninja abilities.  Instead of focusing on the practical aspects of operating a vehicle – like parallel parking or obeying traffic signals – Naruto employed his signature Shadow Clone Jutsu.  He created numerous clones, each attempting the test simultaneously.  However, the sheer chaos this caused led to a series of spectacular, albeit hilarious, failures.  Clones crashed into obstacles, ran red lights with reckless abandon, and generally exhibited a complete disregard for road safety.  The examiner, understandably overwhelmed by the sheer number of failing Naruto clones, ultimately declared the entire endeavor a catastrophic failure.  In short, Naruto's ambition to cheat the system backfired spectacularly, proving that even exceptional ninja skills aren't a substitute for learning the rules of the road.\"}, next=('generate_joke',), config={'configurable': {'thread_id': '1', 'checkpoint_ns': '', 'checkpoint_id': '1f093f71-faf3-604d-8008-f2b481b0c76d'}}, metadata={'source': 'loop', 'step': 8, 'parents': {}}, created_at='2025-09-17T18:50:04.626523+00:00', parent_config={'configurable': {'thread_id': '1', 'checkpoint_ns': '', 'checkpoint_id': '1f093f71-faf0-60eb-8007-fcc3f31488d6'}}, tasks=(PregelTask(id='15ca0376-1137-53b6-9662-906e0210d01d', name='generate_joke', path=('__pregel_pull', 'generate_joke'), error=None, interrupts=(), state=None, result={'joke': 'Why did Naruto fail his driving test?\\n\\nBecause he kept using shadow clones to take the test for him, and they all failed!'}),), interrupts=()),\n",
       " StateSnapshot(values={'topic': 'naruto', 'joke': 'Why did Naruto fail his driving test?\\n\\nBecause he kept using shadow clones to take the test for him, and they all failed!', 'explanation': \"Naruto's driving test failure wasn't due to a lack of skill, per se, but rather a spectacular misuse of his ninja abilities.  Instead of focusing on the practical aspects of operating a vehicle – like parallel parking or obeying traffic signals – Naruto employed his signature Shadow Clone Jutsu.  He created numerous clones, each attempting the test simultaneously.  However, the sheer chaos this caused led to a series of spectacular, albeit hilarious, failures.  Clones crashed into obstacles, ran red lights with reckless abandon, and generally exhibited a complete disregard for road safety.  The examiner, understandably overwhelmed by the sheer number of failing Naruto clones, ultimately declared the entire endeavor a catastrophic failure.  In short, Naruto's ambition to cheat the system backfired spectacularly, proving that even exceptional ninja skills aren't a substitute for learning the rules of the road.\"}, next=('__start__',), config={'configurable': {'thread_id': '1', 'checkpoint_ns': '', 'checkpoint_id': '1f093f71-faf0-60eb-8007-fcc3f31488d6'}}, metadata={'source': 'input', 'step': 7, 'parents': {}}, created_at='2025-09-17T18:50:04.625308+00:00', parent_config={'configurable': {'thread_id': '1', 'checkpoint_ns': '', 'checkpoint_id': '1f093f6d-bcd5-6ac9-8006-8132827e29a0'}}, tasks=(PregelTask(id='cf15eaef-6cb7-609c-c324-25a5bfda07ab', name='__start__', path=('__pregel_pull', '__start__'), error=None, interrupts=(), state=None, result={'topic': 'naruto'}),), interrupts=()),\n",
       " StateSnapshot(values={'topic': 'naruto', 'joke': 'Why did Naruto fail his driving test?\\n\\nBecause he kept using shadow clones to take the test for him, and they all failed!', 'explanation': \"Naruto's driving test failure wasn't due to a lack of skill, per se, but rather a spectacular misuse of his ninja abilities.  Instead of focusing on the practical aspects of operating a vehicle – like parallel parking or obeying traffic signals – Naruto employed his signature Shadow Clone Jutsu.  He created numerous clones, each attempting the test simultaneously.  However, the sheer chaos this caused led to a series of spectacular, albeit hilarious, failures.  Clones crashed into obstacles, ran red lights with reckless abandon, and generally exhibited a complete disregard for road safety.  The examiner, understandably overwhelmed by the sheer number of failing Naruto clones, ultimately declared the entire endeavor a catastrophic failure.  In short, Naruto's ambition to cheat the system backfired spectacularly, proving that even exceptional ninja skills aren't a substitute for learning the rules of the road.\"}, next=(), config={'configurable': {'thread_id': '1', 'checkpoint_ns': '', 'checkpoint_id': '1f093f6d-bcd5-6ac9-8006-8132827e29a0'}}, metadata={'source': 'loop', 'step': 6, 'parents': {}}, created_at='2025-09-17T18:48:10.739124+00:00', parent_config={'configurable': {'thread_id': '1', 'checkpoint_ns': '', 'checkpoint_id': '1f093f6d-a374-6ebe-8005-f1458f3b674c'}}, tasks=(), interrupts=()),\n",
       " StateSnapshot(values={'topic': 'naruto', 'joke': 'Why did Naruto fail his driving test?\\n\\nBecause he kept using shadow clones to take the test for him, and they all failed!', 'explanation': 'This is a pun!  The joke relies on the similar sounds of \"fungi\" (a type of organism including mushrooms) and \"fun guy.\"\\n\\nThe setup implies a pizza slice has a fondness for mushrooms. The punchline, \"Because he\\'s a fungi,\" plays on the word \"fungi\" to suggest the pizza slice is having fun because he enjoys mushrooms.  It\\'s humorous because it\\'s unexpected and uses a scientific term in a playful way.'}, next=('generate_explanation',), config={'configurable': {'thread_id': '1', 'checkpoint_ns': '', 'checkpoint_id': '1f093f6d-a374-6ebe-8005-f1458f3b674c'}}, metadata={'source': 'loop', 'step': 5, 'parents': {}}, created_at='2025-09-17T18:48:08.078064+00:00', parent_config={'configurable': {'thread_id': '1', 'checkpoint_ns': '', 'checkpoint_id': '1f093f6d-9c6f-675d-8004-46073f7e10af'}}, tasks=(PregelTask(id='733ee3ec-fb80-c505-962b-5d4d736b2abf', name='generate_explanation', path=('__pregel_pull', 'generate_explanation'), error=None, interrupts=(), state=None, result={'explanation': \"Naruto's driving test failure wasn't due to a lack of skill, per se, but rather a spectacular misuse of his ninja abilities.  Instead of focusing on the practical aspects of operating a vehicle – like parallel parking or obeying traffic signals – Naruto employed his signature Shadow Clone Jutsu.  He created numerous clones, each attempting the test simultaneously.  However, the sheer chaos this caused led to a series of spectacular, albeit hilarious, failures.  Clones crashed into obstacles, ran red lights with reckless abandon, and generally exhibited a complete disregard for road safety.  The examiner, understandably overwhelmed by the sheer number of failing Naruto clones, ultimately declared the entire endeavor a catastrophic failure.  In short, Naruto's ambition to cheat the system backfired spectacularly, proving that even exceptional ninja skills aren't a substitute for learning the rules of the road.\"}),), interrupts=()),\n",
       " StateSnapshot(values={'topic': 'naruto', 'joke': \"Why does the pizza slice like the mushroom so much?\\n\\nBecause he's a fungi!\", 'explanation': 'This is a pun!  The joke relies on the similar sounds of \"fungi\" (a type of organism including mushrooms) and \"fun guy.\"\\n\\nThe setup implies a pizza slice has a fondness for mushrooms. The punchline, \"Because he\\'s a fungi,\" plays on the word \"fungi\" to suggest the pizza slice is having fun because he enjoys mushrooms.  It\\'s humorous because it\\'s unexpected and uses a scientific term in a playful way.'}, next=('generate_joke',), config={'configurable': {'thread_id': '1', 'checkpoint_ns': '', 'checkpoint_id': '1f093f6d-9c6f-675d-8004-46073f7e10af'}}, metadata={'source': 'loop', 'step': 4, 'parents': {}}, created_at='2025-09-17T18:48:07.341831+00:00', parent_config={'configurable': {'thread_id': '1', 'checkpoint_ns': '', 'checkpoint_id': '1f093f6d-9c6c-66a4-8003-96a4f05ecad0'}}, tasks=(PregelTask(id='51636e5e-9f54-3f8a-5b5c-bc687c1a2d05', name='generate_joke', path=('__pregel_pull', 'generate_joke'), error=None, interrupts=(), state=None, result={'joke': 'Why did Naruto fail his driving test?\\n\\nBecause he kept using shadow clones to take the test for him, and they all failed!'}),), interrupts=()),\n",
       " StateSnapshot(values={'topic': 'pizza', 'joke': \"Why does the pizza slice like the mushroom so much?\\n\\nBecause he's a fungi!\", 'explanation': 'This is a pun!  The joke relies on the similar sounds of \"fungi\" (a type of organism including mushrooms) and \"fun guy.\"\\n\\nThe setup implies a pizza slice has a fondness for mushrooms. The punchline, \"Because he\\'s a fungi,\" plays on the word \"fungi\" to suggest the pizza slice is having fun because he enjoys mushrooms.  It\\'s humorous because it\\'s unexpected and uses a scientific term in a playful way.'}, next=('__start__',), config={'configurable': {'thread_id': '1', 'checkpoint_ns': '', 'checkpoint_id': '1f093f6d-9c6c-66a4-8003-96a4f05ecad0'}}, metadata={'source': 'input', 'step': 3, 'parents': {}}, created_at='2025-09-17T18:48:07.340574+00:00', parent_config={'configurable': {'thread_id': '1', 'checkpoint_ns': '', 'checkpoint_id': '1f093f66-e3e4-69d9-8002-954efbd9a993'}}, tasks=(PregelTask(id='b3bc1cf1-13c1-c7ef-6ac1-142423989258', name='__start__', path=('__pregel_pull', '__start__'), error=None, interrupts=(), state=None, result={'topic': 'naruto'}),), interrupts=()),\n",
       " StateSnapshot(values={'topic': 'pizza', 'joke': \"Why does the pizza slice like the mushroom so much?\\n\\nBecause he's a fungi!\", 'explanation': 'This is a pun!  The joke relies on the similar sounds of \"fungi\" (a type of organism including mushrooms) and \"fun guy.\"\\n\\nThe setup implies a pizza slice has a fondness for mushrooms. The punchline, \"Because he\\'s a fungi,\" plays on the word \"fungi\" to suggest the pizza slice is having fun because he enjoys mushrooms.  It\\'s humorous because it\\'s unexpected and uses a scientific term in a playful way.'}, next=(), config={'configurable': {'thread_id': '1', 'checkpoint_ns': '', 'checkpoint_id': '1f093f66-e3e4-69d9-8002-954efbd9a993'}}, metadata={'source': 'loop', 'step': 2, 'parents': {}}, created_at='2025-09-17T18:45:06.929896+00:00', parent_config={'configurable': {'thread_id': '1', 'checkpoint_ns': '', 'checkpoint_id': '1f093f66-d1e9-6175-8001-ed116f5fc9e3'}}, tasks=(), interrupts=()),\n",
       " StateSnapshot(values={'topic': 'pizza', 'joke': \"Why does the pizza slice like the mushroom so much?\\n\\nBecause he's a fungi!\"}, next=('generate_explanation',), config={'configurable': {'thread_id': '1', 'checkpoint_ns': '', 'checkpoint_id': '1f093f66-d1e9-6175-8001-ed116f5fc9e3'}}, metadata={'source': 'loop', 'step': 1, 'parents': {}}, created_at='2025-09-17T18:45:05.044291+00:00', parent_config={'configurable': {'thread_id': '1', 'checkpoint_ns': '', 'checkpoint_id': '1f093f66-c992-6700-8000-d8acf9d07707'}}, tasks=(PregelTask(id='e1d98c00-6f4c-7764-7402-65c94bd05799', name='generate_explanation', path=('__pregel_pull', 'generate_explanation'), error=None, interrupts=(), state=None, result={'explanation': 'This is a pun!  The joke relies on the similar sounds of \"fungi\" (a type of organism including mushrooms) and \"fun guy.\"\\n\\nThe setup implies a pizza slice has a fondness for mushrooms. The punchline, \"Because he\\'s a fungi,\" plays on the word \"fungi\" to suggest the pizza slice is having fun because he enjoys mushrooms.  It\\'s humorous because it\\'s unexpected and uses a scientific term in a playful way.'}),), interrupts=()),\n",
       " StateSnapshot(values={'topic': 'pizza'}, next=('generate_joke',), config={'configurable': {'thread_id': '1', 'checkpoint_ns': '', 'checkpoint_id': '1f093f66-c992-6700-8000-d8acf9d07707'}}, metadata={'source': 'loop', 'step': 0, 'parents': {}}, created_at='2025-09-17T18:45:04.169930+00:00', parent_config={'configurable': {'thread_id': '1', 'checkpoint_ns': '', 'checkpoint_id': '1f093f66-c989-63f5-bfff-1cefff8288dd'}}, tasks=(PregelTask(id='4fad4624-a4f2-d8f7-0a24-97a0c6fdb2c4', name='generate_joke', path=('__pregel_pull', 'generate_joke'), error=None, interrupts=(), state=None, result={'joke': \"Why does the pizza slice like the mushroom so much?\\n\\nBecause he's a fungi!\"}),), interrupts=()),\n",
       " StateSnapshot(values={}, next=('__start__',), config={'configurable': {'thread_id': '1', 'checkpoint_ns': '', 'checkpoint_id': '1f093f66-c989-63f5-bfff-1cefff8288dd'}}, metadata={'source': 'input', 'step': -1, 'parents': {}}, created_at='2025-09-17T18:45:04.166179+00:00', parent_config=None, tasks=(PregelTask(id='eede4116-bfed-84c2-7a8e-294b94d95f4a', name='__start__', path=('__pregel_pull', '__start__'), error=None, interrupts=(), state=None, result={'topic': 'pizza'}),), interrupts=())]"
      ]
     },
     "execution_count": 21,
     "metadata": {},
     "output_type": "execute_result"
    }
   ],
   "source": [
    "list(workflow.get_state_history(config1))"
   ]
  },
  {
   "cell_type": "code",
   "execution_count": 24,
   "id": "45a62ab0",
   "metadata": {},
   "outputs": [
    {
     "data": {
      "text/plain": [
       "{'topic': 'pasta',\n",
       " 'joke': \"Why did the Italian chef quit his job?  Because he didn't get enough *pasta*bilities!\",\n",
       " 'explanation': 'The joke plays on the double meaning of \"pasta-bilities.\"  On the surface, it refers to the potential or opportunities available to a chef.  However, it also sounds like \"possibilities,\"  creating a pun.  The Italian chef quit because he felt his job didn\\'t offer him enough opportunities for creative expression, advancement, or simply enough interesting work in the kitchen.  He wasn\\'t getting the chance to explore his culinary skills to their fullest potential – he lacked the \"pasta-bilities\" to thrive.'}"
      ]
     },
     "execution_count": 24,
     "metadata": {},
     "output_type": "execute_result"
    }
   ],
   "source": [
    "config2 = {\"configurable\":{'thread_id':'2'}}\n",
    "initial_state={\n",
    "    'topic':'pasta'\n",
    "}\n",
    "workflow.invoke(initial_state , config=config2)"
   ]
  },
  {
   "cell_type": "code",
   "execution_count": 20,
   "id": "7ed3c56d",
   "metadata": {},
   "outputs": [
    {
     "data": {
      "text/plain": [
       "StateSnapshot(values={'topic': 'luffy', 'joke': 'Why did Luffy get fired from his job as a lighthouse keeper?\\n\\nBecause he kept letting the light go out...  he said he was \"stretching\" his duties!', 'explanation': 'Monkey D. Luffy\\'s brief and ultimately unsuccessful career as a lighthouse keeper came to an abrupt end due to his rather unique approach to the job.  While possessing the unwavering dedication (and perhaps naivete) to his duties, Luffy\\'s inherent rubber-like abilities, coupled with a rather loose interpretation of \"keeping the light on,\" proved disastrous.  He repeatedly caused the lighthouse light to go out, claiming he was merely \"stretching\" his duties – literally.  His elastic body would unintentionally (or perhaps intentionally, depending on who you ask) obstruct the light source, leading to periods of darkness that put passing ships at risk.  Ultimately, his inability to consistently maintain the lighthouse light, despite his enthusiastic efforts, resulted in his dismissal.  The official reason:  repeated negligence of duty, though many whispered that it was simply impossible to take a rubber man seriously as a lighthouse keeper.'}, next=(), config={'configurable': {'thread_id': '2', 'checkpoint_ns': '', 'checkpoint_id': '1f093f71-e55d-6fd0-8006-6594aa6226d8'}}, metadata={'source': 'loop', 'step': 6, 'parents': {}}, created_at='2025-09-17T18:50:02.363465+00:00', parent_config={'configurable': {'thread_id': '2', 'checkpoint_ns': '', 'checkpoint_id': '1f093f71-caf2-6392-8005-e65a78e1f48a'}}, tasks=(), interrupts=())"
      ]
     },
     "execution_count": 20,
     "metadata": {},
     "output_type": "execute_result"
    }
   ],
   "source": [
    "workflow.get_state(config2)"
   ]
  },
  {
   "cell_type": "code",
   "execution_count": 22,
   "id": "32c907c2",
   "metadata": {},
   "outputs": [
    {
     "data": {
      "text/plain": [
       "[StateSnapshot(values={'topic': 'luffy', 'joke': 'Why did Luffy get fired from his job as a lighthouse keeper?\\n\\nBecause he kept letting the light go out...  he said he was \"stretching\" his duties!', 'explanation': 'Monkey D. Luffy\\'s brief and ultimately unsuccessful career as a lighthouse keeper came to an abrupt end due to his rather unique approach to the job.  While possessing the unwavering dedication (and perhaps naivete) to his duties, Luffy\\'s inherent rubber-like abilities, coupled with a rather loose interpretation of \"keeping the light on,\" proved disastrous.  He repeatedly caused the lighthouse light to go out, claiming he was merely \"stretching\" his duties – literally.  His elastic body would unintentionally (or perhaps intentionally, depending on who you ask) obstruct the light source, leading to periods of darkness that put passing ships at risk.  Ultimately, his inability to consistently maintain the lighthouse light, despite his enthusiastic efforts, resulted in his dismissal.  The official reason:  repeated negligence of duty, though many whispered that it was simply impossible to take a rubber man seriously as a lighthouse keeper.'}, next=(), config={'configurable': {'thread_id': '2', 'checkpoint_ns': '', 'checkpoint_id': '1f093f71-e55d-6fd0-8006-6594aa6226d8'}}, metadata={'source': 'loop', 'step': 6, 'parents': {}}, created_at='2025-09-17T18:50:02.363465+00:00', parent_config={'configurable': {'thread_id': '2', 'checkpoint_ns': '', 'checkpoint_id': '1f093f71-caf2-6392-8005-e65a78e1f48a'}}, tasks=(), interrupts=()),\n",
       " StateSnapshot(values={'topic': 'luffy', 'joke': 'Why did Luffy get fired from his job as a lighthouse keeper?\\n\\nBecause he kept letting the light go out...  he said he was \"stretching\" his duties!', 'explanation': 'Luffy failed his history test because of his incredibly poor study habits.  Instead of diligently reviewing the material, he kept postponing his studies, proclaiming his future ambition to become King of the Pirates as an excuse for procrastination.  He essentially \"rubber-banded\" his studying – stretching it out and delaying it until it was too late, much like how a rubber band can be stretched thin before snapping.  His focus remained firmly on his pirate dreams, leaving his history studies completely neglected until the test arrived, resulting in a failing grade.'}, next=('generate_explanation',), config={'configurable': {'thread_id': '2', 'checkpoint_ns': '', 'checkpoint_id': '1f093f71-caf2-6392-8005-e65a78e1f48a'}}, metadata={'source': 'loop', 'step': 5, 'parents': {}}, created_at='2025-09-17T18:49:59.593030+00:00', parent_config={'configurable': {'thread_id': '2', 'checkpoint_ns': '', 'checkpoint_id': '1f093f71-c3a5-627f-8004-bb302a68a81c'}}, tasks=(PregelTask(id='083dbdac-8a3c-a40c-9a73-40d5d2f32274', name='generate_explanation', path=('__pregel_pull', 'generate_explanation'), error=None, interrupts=(), state=None, result={'explanation': 'Monkey D. Luffy\\'s brief and ultimately unsuccessful career as a lighthouse keeper came to an abrupt end due to his rather unique approach to the job.  While possessing the unwavering dedication (and perhaps naivete) to his duties, Luffy\\'s inherent rubber-like abilities, coupled with a rather loose interpretation of \"keeping the light on,\" proved disastrous.  He repeatedly caused the lighthouse light to go out, claiming he was merely \"stretching\" his duties – literally.  His elastic body would unintentionally (or perhaps intentionally, depending on who you ask) obstruct the light source, leading to periods of darkness that put passing ships at risk.  Ultimately, his inability to consistently maintain the lighthouse light, despite his enthusiastic efforts, resulted in his dismissal.  The official reason:  repeated negligence of duty, though many whispered that it was simply impossible to take a rubber man seriously as a lighthouse keeper.'}),), interrupts=()),\n",
       " StateSnapshot(values={'topic': 'luffy', 'joke': 'Why did Luffy get a bad grade on his history test?\\n\\nBecause he kept saying, \"I\\'ll become the King of the Pirates... later!\"  He totally *rubber-banded* his studying!', 'explanation': 'Luffy failed his history test because of his incredibly poor study habits.  Instead of diligently reviewing the material, he kept postponing his studies, proclaiming his future ambition to become King of the Pirates as an excuse for procrastination.  He essentially \"rubber-banded\" his studying – stretching it out and delaying it until it was too late, much like how a rubber band can be stretched thin before snapping.  His focus remained firmly on his pirate dreams, leaving his history studies completely neglected until the test arrived, resulting in a failing grade.'}, next=('generate_joke',), config={'configurable': {'thread_id': '2', 'checkpoint_ns': '', 'checkpoint_id': '1f093f71-c3a5-627f-8004-bb302a68a81c'}}, metadata={'source': 'loop', 'step': 4, 'parents': {}}, created_at='2025-09-17T18:49:58.827464+00:00', parent_config={'configurable': {'thread_id': '2', 'checkpoint_ns': '', 'checkpoint_id': '1f093f71-c3a1-68d2-8003-8e4467f5312e'}}, tasks=(PregelTask(id='0c389d2b-aaac-45ff-e55d-a2784476810c', name='generate_joke', path=('__pregel_pull', 'generate_joke'), error=None, interrupts=(), state=None, result={'joke': 'Why did Luffy get fired from his job as a lighthouse keeper?\\n\\nBecause he kept letting the light go out...  he said he was \"stretching\" his duties!'}),), interrupts=()),\n",
       " StateSnapshot(values={'topic': 'luffy', 'joke': 'Why did Luffy get a bad grade on his history test?\\n\\nBecause he kept saying, \"I\\'ll become the King of the Pirates... later!\"  He totally *rubber-banded* his studying!', 'explanation': 'Luffy failed his history test because of his incredibly poor study habits.  Instead of diligently reviewing the material, he kept postponing his studies, proclaiming his future ambition to become King of the Pirates as an excuse for procrastination.  He essentially \"rubber-banded\" his studying – stretching it out and delaying it until it was too late, much like how a rubber band can be stretched thin before snapping.  His focus remained firmly on his pirate dreams, leaving his history studies completely neglected until the test arrived, resulting in a failing grade.'}, next=('__start__',), config={'configurable': {'thread_id': '2', 'checkpoint_ns': '', 'checkpoint_id': '1f093f71-c3a1-68d2-8003-8e4467f5312e'}}, metadata={'source': 'input', 'step': 3, 'parents': {}}, created_at='2025-09-17T18:49:58.825984+00:00', parent_config={'configurable': {'thread_id': '2', 'checkpoint_ns': '', 'checkpoint_id': '1f093f70-9ddd-6a6a-8002-d62f67d58c46'}}, tasks=(PregelTask(id='ea7cd3ae-8528-deeb-4d9e-d9fc857f1162', name='__start__', path=('__pregel_pull', '__start__'), error=None, interrupts=(), state=None, result={'topic': 'luffy'}),), interrupts=()),\n",
       " StateSnapshot(values={'topic': 'luffy', 'joke': 'Why did Luffy get a bad grade on his history test?\\n\\nBecause he kept saying, \"I\\'ll become the King of the Pirates... later!\"  He totally *rubber-banded* his studying!', 'explanation': 'Luffy failed his history test because of his incredibly poor study habits.  Instead of diligently reviewing the material, he kept postponing his studies, proclaiming his future ambition to become King of the Pirates as an excuse for procrastination.  He essentially \"rubber-banded\" his studying – stretching it out and delaying it until it was too late, much like how a rubber band can be stretched thin before snapping.  His focus remained firmly on his pirate dreams, leaving his history studies completely neglected until the test arrived, resulting in a failing grade.'}, next=(), config={'configurable': {'thread_id': '2', 'checkpoint_ns': '', 'checkpoint_id': '1f093f70-9ddd-6a6a-8002-d62f67d58c46'}}, metadata={'source': 'loop', 'step': 2, 'parents': {}}, created_at='2025-09-17T18:49:28.022466+00:00', parent_config={'configurable': {'thread_id': '2', 'checkpoint_ns': '', 'checkpoint_id': '1f093f70-8d1e-68f1-8001-983646e108fb'}}, tasks=(), interrupts=()),\n",
       " StateSnapshot(values={'topic': 'luffy', 'joke': 'Why did Luffy get a bad grade on his history test?\\n\\nBecause he kept saying, \"I\\'ll become the King of the Pirates... later!\"  He totally *rubber-banded* his studying!'}, next=('generate_explanation',), config={'configurable': {'thread_id': '2', 'checkpoint_ns': '', 'checkpoint_id': '1f093f70-8d1e-68f1-8001-983646e108fb'}}, metadata={'source': 'loop', 'step': 1, 'parents': {}}, created_at='2025-09-17T18:49:26.266473+00:00', parent_config={'configurable': {'thread_id': '2', 'checkpoint_ns': '', 'checkpoint_id': '1f093f70-84c5-6256-8000-3784d2d2dedc'}}, tasks=(PregelTask(id='e73e98b9-5271-d181-390c-efa27da17bb5', name='generate_explanation', path=('__pregel_pull', 'generate_explanation'), error=None, interrupts=(), state=None, result={'explanation': 'Luffy failed his history test because of his incredibly poor study habits.  Instead of diligently reviewing the material, he kept postponing his studies, proclaiming his future ambition to become King of the Pirates as an excuse for procrastination.  He essentially \"rubber-banded\" his studying – stretching it out and delaying it until it was too late, much like how a rubber band can be stretched thin before snapping.  His focus remained firmly on his pirate dreams, leaving his history studies completely neglected until the test arrived, resulting in a failing grade.'}),), interrupts=()),\n",
       " StateSnapshot(values={'topic': 'luffy'}, next=('generate_joke',), config={'configurable': {'thread_id': '2', 'checkpoint_ns': '', 'checkpoint_id': '1f093f70-84c5-6256-8000-3784d2d2dedc'}}, metadata={'source': 'loop', 'step': 0, 'parents': {}}, created_at='2025-09-17T18:49:25.390993+00:00', parent_config={'configurable': {'thread_id': '2', 'checkpoint_ns': '', 'checkpoint_id': '1f093f70-84c2-65d9-bfff-0368a7e395a7'}}, tasks=(PregelTask(id='ad2938f1-d1d7-7356-fd1c-2436c61a8e4c', name='generate_joke', path=('__pregel_pull', 'generate_joke'), error=None, interrupts=(), state=None, result={'joke': 'Why did Luffy get a bad grade on his history test?\\n\\nBecause he kept saying, \"I\\'ll become the King of the Pirates... later!\"  He totally *rubber-banded* his studying!'}),), interrupts=()),\n",
       " StateSnapshot(values={}, next=('__start__',), config={'configurable': {'thread_id': '2', 'checkpoint_ns': '', 'checkpoint_id': '1f093f70-84c2-65d9-bfff-0368a7e395a7'}}, metadata={'source': 'input', 'step': -1, 'parents': {}}, created_at='2025-09-17T18:49:25.389861+00:00', parent_config=None, tasks=(PregelTask(id='94013d90-bb60-3a2b-eb65-68c00d81f1a9', name='__start__', path=('__pregel_pull', '__start__'), error=None, interrupts=(), state=None, result={'topic': 'luffy'}),), interrupts=())]"
      ]
     },
     "execution_count": 22,
     "metadata": {},
     "output_type": "execute_result"
    }
   ],
   "source": [
    "list(workflow.get_state_history(config2))"
   ]
  },
  {
   "cell_type": "code",
   "execution_count": null,
   "id": "72155a84",
   "metadata": {},
   "outputs": [],
   "source": []
  },
  {
   "cell_type": "code",
   "execution_count": null,
   "id": "7c27de19",
   "metadata": {},
   "outputs": [],
   "source": []
  },
  {
   "cell_type": "code",
   "execution_count": null,
   "id": "45adf3f2",
   "metadata": {},
   "outputs": [],
   "source": []
  },
  {
   "cell_type": "code",
   "execution_count": null,
   "id": "d6e1a237",
   "metadata": {},
   "outputs": [],
   "source": []
  },
  {
   "cell_type": "code",
   "execution_count": null,
   "id": "22fdeb01",
   "metadata": {},
   "outputs": [],
   "source": []
  },
  {
   "cell_type": "code",
   "execution_count": null,
   "id": "f9dc2a58",
   "metadata": {},
   "outputs": [],
   "source": []
  },
  {
   "cell_type": "code",
   "execution_count": null,
   "id": "9058ae7b",
   "metadata": {},
   "outputs": [],
   "source": []
  }
 ],
 "metadata": {
  "kernelspec": {
   "display_name": "myenv",
   "language": "python",
   "name": "python3"
  },
  "language_info": {
   "codemirror_mode": {
    "name": "ipython",
    "version": 3
   },
   "file_extension": ".py",
   "mimetype": "text/x-python",
   "name": "python",
   "nbconvert_exporter": "python",
   "pygments_lexer": "ipython3",
   "version": "3.13.5"
  }
 },
 "nbformat": 4,
 "nbformat_minor": 5
}
