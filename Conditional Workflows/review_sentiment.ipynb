{
 "cells": [
  {
   "cell_type": "code",
   "execution_count": null,
   "id": "693d0c0f",
   "metadata": {},
   "outputs": [],
   "source": [
    "from langgraph.graph import StateGraph,START,END\n",
    "from typing import TypedDict,Literal\n",
    "from pydantic import BaseModel, Field\n",
    "from langchain_google_genai import ChatGoogleGenerativeAI\n",
    "from dotenv import load_dotenv"
   ]
  },
  {
   "cell_type": "code",
   "execution_count": null,
   "id": "3780e32b",
   "metadata": {},
   "outputs": [],
   "source": [
    "load_dotenv()\n",
    "model= ChatGoogleGenerativeAI(model=\"gemini-1.5-flash\")"
   ]
  },
  {
   "cell_type": "code",
   "execution_count": 32,
   "id": "ddfebef8",
   "metadata": {},
   "outputs": [],
   "source": [
    "class SentimentSchema(BaseModel):\n",
    "    sentiment: Literal['Positive','Negative'] = Field(description=\"Sentiment of the user Review\")"
   ]
  },
  {
   "cell_type": "code",
   "execution_count": 33,
   "id": "e741ac0e",
   "metadata": {},
   "outputs": [],
   "source": [
    "class DiagonsisSchema(BaseModel):\n",
    "    issue_type: Literal[\"UX\", \"Performance\", \"Bug\", \"Support\", \"Other\"] = Field(description='The category of issue mentioned in the review')\n",
    "    tone: Literal[\"angry\", \"frustrated\", \"disappointed\", \"calm\"] = Field(description='The emotional tone expressed by the user')\n",
    "    urgency: Literal[\"low\", \"medium\", \"high\"] = Field(description='How urgent or critical the issue appears to be')\n"
   ]
  },
  {
   "cell_type": "code",
   "execution_count": 34,
   "id": "31049eba",
   "metadata": {},
   "outputs": [],
   "source": [
    "Structured_model = model.with_structured_output(SentimentSchema)\n",
    "Structured_model2 = model.with_structured_output(DiagonsisSchema)"
   ]
  },
  {
   "cell_type": "code",
   "execution_count": 35,
   "id": "5c0d08ac",
   "metadata": {},
   "outputs": [],
   "source": [
    "# prompt = f'what is the sentiment of the folloing review - The product is worst'\n",
    "\n",
    "# Structured_model.invoke(prompt).sentiment"
   ]
  },
  {
   "cell_type": "code",
   "execution_count": 36,
   "id": "eb5cb1f1",
   "metadata": {},
   "outputs": [],
   "source": [
    "class ReviewState(TypedDict):\n",
    "    review:str\n",
    "    sentiment:Literal['Positive','Negative'] \n",
    "    diagonsis:dict\n",
    "    response:str"
   ]
  },
  {
   "cell_type": "code",
   "execution_count": 37,
   "id": "8aa28889",
   "metadata": {},
   "outputs": [],
   "source": [
    "def find_sentiment(state:ReviewState):\n",
    "    prompt = f' For the following review find out the sentiment \\n {state['review']}'\n",
    "\n",
    "    sentiment = Structured_model.invoke(prompt)\n",
    "    return{'sentiment':sentiment}\n",
    "\n",
    "\n",
    "def check_sentiments(state:ReviewState)-> Literal[\"positive_response\",\"run_diagonsis\"]:\n",
    "    if state['sentiment']==\"Positive\":\n",
    "        return \"positive_response\"\n",
    "    else:\n",
    "        return \"run_diagonsis\"\n"
   ]
  },
  {
   "cell_type": "code",
   "execution_count": 38,
   "id": "fc6b83d3",
   "metadata": {},
   "outputs": [],
   "source": [
    "def positive_response(state:ReviewState):\n",
    "    prompt = f\"\"\"Write a warm thank-you message in response to this review:\n",
    "    \\n\\n\\\"{state['review']}\\\"\\n\n",
    "    Also, kindly ask the user to leave feedback on our website.\"\"\"\n",
    "\n",
    "    response = model.invoke(prompt).content\n",
    "    return{'response':response}\n",
    "\n",
    "\n",
    "def run_diagonsis(state:ReviewState):\n",
    "    prompt = f\"\"\"Diagnose this negative review:\\n\\n{state['review']}\\n\"\n",
    "    \"Return issue_type, tone, and urgency.\n",
    "\"\"\"\n",
    "    \n",
    "    response = Structured_model2.invoke(prompt)\n",
    "\n",
    "    return {'diagonsis':response.model_dump()}\n",
    "\n",
    "\n",
    "\n",
    "def negative_response(state:ReviewState):\n",
    "    \n",
    "    diagonsis = state['diagonsis']\n",
    "    \n",
    "    prompt = f\"\"\"You are a support assistant.\n",
    "The user had a '{diagonsis['issue_type']}' issue, sounded '{diagonsis['tone']}', and marked urgency as '{diagonsis['urgency']}'.\n",
    "Write an empathetic, helpful resolution message.\n",
    "\"\"\"\n",
    "    response = model.invoke(prompt).content\n",
    "    return{'respnse':'response'}"
   ]
  },
  {
   "cell_type": "code",
   "execution_count": 39,
   "id": "2045fded",
   "metadata": {},
   "outputs": [],
   "source": [
    "graph = StateGraph(ReviewState)\n",
    "\n",
    "# Add Node\n",
    "graph.add_node(\"find_sentiment\",find_sentiment)\n",
    "graph.add_node(\"run_diagonsis\",run_diagonsis)\n",
    "graph.add_node(\"positive_response\",positive_response)\n",
    "graph.add_node(\"negative_response\",negative_response)\n",
    "\n",
    "\n",
    "# Add Edges\n",
    "\n",
    "graph.add_edge(START,\"find_sentiment\")\n",
    "\n",
    "graph.add_conditional_edges(\"find_sentiment\",check_sentiments)\n",
    "\n",
    "graph.add_edge(\"positive_response\",END)\n",
    "graph.add_edge(\"run_diagonsis\",\"negative_response\")\n",
    "graph.add_edge(\"negative_response\",END)\n",
    "\n",
    "\n",
    "workflow= graph.compile()"
   ]
  },
  {
   "cell_type": "code",
   "execution_count": 40,
   "metadata": {},
   "outputs": [
    {
     "data": {
      "image/png": "[encoded data removed]",
      "text/plain": [
       "<langgraph.graph.state.CompiledStateGraph object at 0x000001F5BEAB1090>"
      ]
     },
     "execution_count": 40,
     "metadata": {},
     "output_type": "execute_result"
    }
   ],
   "source": [
    "workflow"
   ]
  },
  {
   "cell_type": "code",
   "execution_count": 44,
   "id": "bdebc7b2",
   "metadata": {},
   "outputs": [
    {
     "data": {
      "text/plain": [
       "{'review': 'best app used so far best app. ',\n",
       " 'sentiment': SentimentSchema(sentiment='Positive'),\n",
       " 'diagonsis': {'issue_type': 'Other', 'tone': 'calm', 'urgency': 'low'}}"
      ]
     },
     "execution_count": 44,
     "metadata": {},
     "output_type": "execute_result"
    }
   ],
   "source": [
    "intial_state={\n",
    "    'review': \"best app used so far best app. \"\n",
    "}\n",
    "workflow.invoke(intial_state)"
   ]
  },
  {
   "cell_type": "code",
   "execution_count": null,
   "id": "46b895af",
   "metadata": {},
   "outputs": [],
   "source": []
  },
  {
   "cell_type": "code",
   "execution_count": null,
   "id": "7dfe214e",
   "metadata": {},
   "outputs": [],
   "source": []
  }
 ],
 "metadata": {
  "kernelspec": {
   "display_name": "myenv",
   "language": "python",
   "name": "python3"
  },
  "language_info": {
   "codemirror_mode": {
    "name": "ipython",
    "version": 3
   },
   "file_extension": ".py",
   "mimetype": "text/x-python",
   "name": "python",
   "nbconvert_exporter": "python",
   "pygments_lexer": "ipython3",
   "version": "3.13.5"
  }
 },
 "nbformat": 4,
 "nbformat_minor": 5
}
