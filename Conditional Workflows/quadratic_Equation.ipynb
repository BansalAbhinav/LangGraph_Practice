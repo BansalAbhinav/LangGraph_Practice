{
 "cells": [
  {
   "cell_type": "code",
   "execution_count": 41,
   "id": "2a9dd1ef",
   "metadata": {},
   "outputs": [],
   "source": [
    "from langgraph.graph import StateGraph,START,END\n",
    "from typing import TypedDict , Literal\n",
    "from langchain.prompts import PromptTemplate\n"
   ]
  },
  {
   "cell_type": "code",
   "execution_count": 42,
   "metadata": {},
   "outputs": [],
   "source": [
    "class QuadState(TypedDict):\n",
    "    a:int\n",
    "    b:int\n",
    "    c:int\n",
    "\n",
    "    equation:str\n",
    "    discriment:float\n",
    "    result:str"
   ]
  },
  {
   "cell_type": "code",
   "execution_count": 58,
   "id": "d83b2386",
   "metadata": {},
   "outputs": [],
   "source": [
    "def show_equation(state:QuadState):\n",
    "    equation = f'{state['a']}x2+{state['b']}x{state['c']}'\n",
    "    return{'equation':equation}"
   ]
  },
  {
   "cell_type": "code",
   "execution_count": 44,
   "id": "af254af4",
   "metadata": {},
   "outputs": [],
   "source": [
    "def calculate_discriment(state:QuadState):\n",
    "    discriment= state['b']**2 - 4*state['a']*state['c']\n",
    "    return {'discriment':discriment}"
   ]
  },
  {
   "cell_type": "code",
   "execution_count": 45,
   "id": "8806f377",
   "metadata": {},
   "outputs": [],
   "source": [
    "#roots\n",
    "\n",
    "\n",
    "def real_root(state:QuadState):\n",
    "    root1 = (-state['b']+ state[\"discriment\"]**0.5)/(2*state['a'])\n",
    "    root2 = (state['b']+ state[\"discriment\"]**0.5)/(2*state['a'])\n",
    "    result = f'Roots are {root1} & {root2}'\n",
    "    return{\"result\":result}\n",
    "\n",
    "def repeated_roots(state:QuadState):\n",
    "    root = (-state['b'])/(2*state['a'])\n",
    "    result = f'Only Repeating Roots is {root}'\n",
    "    return{\"result\":result}\n",
    "\n",
    "\n",
    "def no_real_roots(state:QuadState):\n",
    "    result = f'No real Roots'\n",
    "    return { 'result':result}"
   ]
  },
  {
   "cell_type": "code",
   "execution_count": 46,
   "id": "b788e6c5",
   "metadata": {},
   "outputs": [],
   "source": [
    "# Check CONDITIONS\n",
    "\n",
    "def check_conditions(state:QuadState)->Literal['real_root','repeated_roots','no_real_roots']:\n",
    "    if state['discriment'] > 0:\n",
    "        return \"real_root\"\n",
    "    elif state['discriment'] == 0:\n",
    "        return \"repeated_roots\"\n",
    "    else:\n",
    "        return \"no_real_roots\""
   ]
  },
  {
   "cell_type": "markdown",
   "id": "c1e67e1c",
   "metadata": {},
   "source": []
  },
  {
   "cell_type": "code",
   "execution_count": 47,
   "metadata": {},
   "outputs": [],
   "source": [
    "graph = StateGraph(QuadState)\n",
    "\n",
    "# add node\n",
    "\n",
    "graph.add_node(\"show_equation\",show_equation)\n",
    "graph.add_node(\"calculate_discriment\",calculate_discriment)\n",
    "graph.add_node(\"real_root\",real_root)\n",
    "graph.add_node(\"repeated_roots\",repeated_roots)\n",
    "graph.add_node(\"no_real_roots\",no_real_roots)\n",
    "\n",
    "#add edges\n",
    "\n",
    "graph.add_edge(START,\"show_equation\")\n",
    "graph.add_edge(\"show_equation\",\"calculate_discriment\")\n",
    "\n",
    "#conditional Edges\n",
    "\n",
    "graph.add_conditional_edges(\"calculate_discriment\",check_conditions)\n",
    "\n",
    "\n",
    "\n",
    "graph.add_edge(\"real_root\",END)\n",
    "graph.add_edge(\"repeated_roots\",END)\n",
    "graph.add_edge(\"no_real_roots\",END)\n",
    "\n",
    "\n",
    "graph.add_edge(\"calculate_discriment\",END)\n",
    "\n",
    "workflow = graph.compile()"
   ]
  },
  {
   "cell_type": "code",
   "execution_count": 48,
   "id": "a2d29c6c",
   "metadata": {},
   "outputs": [
    {
     "data": {
      "image/png": "[encoded data removed]",
      "text/plain": [
       "<langgraph.graph.state.CompiledStateGraph object at 0x000001E55F7BB2F0>"
      ]
     },
     "execution_count": 48,
     "metadata": {},
     "output_type": "execute_result"
    }
   ],
   "source": [
    "workflow"
   ]
  },
  {
   "cell_type": "code",
   "execution_count": 62,
   "id": "c9159dd7",
   "metadata": {},
   "outputs": [],
   "source": [
    "initial_state={\n",
    "    'a':1,\n",
    "    'b':2,\n",
    "    'c':4\n",
    "}\n",
    "\n",
    "result = workflow.invoke(initial_state)\n"
   ]
  },
  {
   "cell_type": "code",
   "execution_count": 63,
   "id": "17d0daf6",
   "metadata": {},
   "outputs": [
    {
     "data": {
      "text/plain": [
       "{'a': 1,\n",
       " 'b': 2,\n",
       " 'c': 4,\n",
       " 'equation': '1x22x4',\n",
       " 'discriment': -12,\n",
       " 'result': 'No real Roots'}"
      ]
     },
     "execution_count": 63,
     "metadata": {},
     "output_type": "execute_result"
    }
   ],
   "source": [
    "result"
   ]
  },
  {
   "cell_type": "code",
   "execution_count": null,
   "id": "9a5f7153",
   "metadata": {},
   "outputs": [],
   "source": []
  },
  {
   "cell_type": "code",
   "execution_count": null,
   "id": "79b78b15",
   "metadata": {},
   "outputs": [],
   "source": []
  },
  {
   "cell_type": "code",
   "execution_count": null,
   "id": "afd3ee28",
   "metadata": {},
   "outputs": [],
   "source": []
  },
  {
   "cell_type": "code",
   "execution_count": null,
   "id": "6815fb56",
   "metadata": {},
   "outputs": [],
   "source": []
  },
  {
   "cell_type": "code",
   "execution_count": null,
   "metadata": {},
   "outputs": [],
   "source": []
  }
 ],
 "metadata": {
  "kernelspec": {
   "display_name": "myenv",
   "language": "python",
   "name": "python3"
  },
  "language_info": {
   "codemirror_mode": {
    "name": "ipython",
    "version": 3
   },
   "file_extension": ".py",
   "mimetype": "text/x-python",
   "name": "python",
   "nbconvert_exporter": "python",
   "pygments_lexer": "ipython3",
   "version": "3.13.5"
  }
 },
 "nbformat": 4,
 "nbformat_minor": 5
}
